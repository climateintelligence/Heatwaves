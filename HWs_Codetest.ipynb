{
 "cells": [
  {
   "cell_type": "code",
   "execution_count": 4,
   "id": "497b7e22-5542-45cf-ad56-d9db508d1242",
   "metadata": {},
   "outputs": [],
   "source": [
    "# System \n",
    "import os\n",
    "import datetime\n",
    "import time\n",
    "import copy\n",
    "import shutil\n",
    "# import sys\n",
    "# sys.path.append('/cnrm/pastel/USERS/lecestres/analyse/')"
   ]
  },
  {
   "cell_type": "code",
   "execution_count": 15,
   "id": "4147e833-2020-4dca-9859-4dd006e9b73b",
   "metadata": {},
   "outputs": [],
   "source": [
    "### EXPERIENCE NAME\n",
    "#expname = \"ocean_reanalysis_GREP\"\n",
    "expname = \"sst_retroprevision_sys7\"\n",
    "\n",
    "### PERCENTILE THRESHOLD\n",
    "percent_thresh = 95\n",
    "#percent_thresh = 90\n",
    "\n",
    "### MINIMAL DURATION OF A HW\n",
    "duration_min = 5\n",
    "#duration_min = 3\n",
    "\n",
    "### REGION OF EXPERIENCE\n",
    "\n",
    "#reg_name = 'north_pacific'\n",
    "#reg_name = 'north_atlantic'\n",
    "#reg_name = 'indian_ocean'\n",
    "#reg_name = 'austral_ocean'\n",
    "#reg_name = 'tropical_atlantic'\n",
    "#reg_name = 'tropical_pacific'\n",
    "#reg_name = 'mediterranee'\n",
    "reg_name = 'global'\n",
    "\n",
    "if reg_name == 'north_pacific':\n",
    "    lats_bnds = np.array([30,65])\n",
    "    lons_bnds = np.array([120, -120])\n",
    "if reg_name == 'north_atlantic':\n",
    "    lats_bnds = np.array([30,65])\n",
    "    lons_bnds = np.array([-80, 0])\n",
    "if reg_name == 'indian_ocean':\n",
    "    lats_bnds = np.array([-30,30])\n",
    "    lons_bnds = np.array([45, 110])\n",
    "if reg_name == 'austral_ocean':\n",
    "    lats_bnds = np.array([-90,-30])\n",
    "    lons_bnds = np.array([-180, 180])\n",
    "if reg_name == 'tropical_atlantic':\n",
    "    lats_bnds = np.array([-30,30])\n",
    "    lons_bnds = np.array([-70, 20])\n",
    "if reg_name == 'tropical_pacific':\n",
    "    lats_bnds = np.array([-30,30])\n",
    "    lons_bnds = np.array([120, -70])\n",
    "if reg_name == 'mediterranee':\n",
    "    lats_bnds = np.array([30,50])\n",
    "    lons_bnds = np.array([-5, 40])\n",
    "if reg_name == 'global':\n",
    "    lats_bnds = np.array([-90,90])\n",
    "    lons_bnds = np.array([-180,180])\n",
    "\n",
    "nlat = lats_bnds[1]-lats_bnds[0]\n",
    "if lons_bnds[1]<lons_bnds[0]:\n",
    "    nlon = lons_bnds[1]%360-lons_bnds[0]\n",
    "else:\n",
    "    nlon = lons_bnds[1]-lons_bnds[0]\n",
    "#print('nlon : ', nlon)\n",
    "\n",
    "### YEARS\n",
    "if expname == 'ocean_reanalysis_GREP':\n",
    "    end_year=2016\n",
    "    start_year=1993\n",
    "elif expname == 'sst_retroprevision_sys7':\n",
    "    end_year=2016\n",
    "    start_year=1993\n",
    "nyear=end_year-start_year+1\n",
    "\n",
    "### SEASON\n",
    "#season = \"NDJFMAM\"\n",
    "season = \"DJF\"\n",
    "if season == 'NDJFMAM':\n",
    "    nday = 211\n",
    "    season_start_day = [11,1] #1stNov\n",
    "    season_end_day = [5,31] #31stMay\n",
    "    first_day = 0\n",
    "    \n",
    "elif season == 'DJF':\n",
    "    nday = 90\n",
    "    season_start_day = [12,1] #1stDec\n",
    "    season_end_day = [3,1] #1stMarch\n",
    "    first_day = 30\n",
    "    \n",
    "ndayseas = nday//duration_min +1\n",
    "\n",
    "if expname == \"ocean_reanalysis_GREP\":\n",
    "    ### NAME OF VARIABLE IN THE NC FILE\n",
    "    varname = 'thetao_mean'\n",
    "    \n",
    "    ### NUMBER OF MEMBS\n",
    "    first_memb = 0\n",
    "    last_memb = 1\n",
    "    nmemb = last_memb-first_memb\n",
    "    \n",
    "    ### CROSS VALIDATION\n",
    "    cv = True\n",
    "    if cv:\n",
    "        cv_str = \"CV\"\n",
    "    else:\n",
    "        cv_str = 'notCV'\n",
    "        \n",
    "elif expname == \"sst_retroprevision_sys7\":\n",
    "    ### NAME OF VARIABLE IN THE NC FILE\n",
    "    varname = 'sst'\n",
    "    \n",
    "    ### NUMBER OF MEMBS\n",
    "    first_memb = 0\n",
    "    last_memb = 2\n",
    "    nmemb = last_memb-first_memb\n",
    "    \n",
    "    ### CROSS VALIDATION\n",
    "    cv = True\n",
    "    if cv:\n",
    "        cv_str = \"CV\"\n",
    "    else:\n",
    "        cv_str = 'notCV'\n",
    "\n",
    "### PARAMETERS\n",
    "# Will be initialized later in the export\n",
    "# parameters_str = reg_name + \"_\" + season + \"_\" + cv_str + '_percent%i'%(percent_thresh) + '_daymin%i'%(duration_min) +  \"ref%i-%i\"%(start_year, end_year)"
   ]
  },
  {
   "cell_type": "code",
   "execution_count": 11,
   "id": "80ad0ac0-9e88-4b4f-af0a-ff840d6d3e8b",
   "metadata": {},
   "outputs": [],
   "source": [
    "import requests\n",
    "\n",
    "time_start = time.time()\n",
    "dataset = 'https://nextcloud.dkrz.de/s/FXoq6ixE54iBfgo/download' # tmax netCDF on DKRZ data repoistory\n",
    "# dataset = 'http://esgf3.dkrz.de/thredds/fileServer/cmip6/ScenarioMIP/DKRZ/MPI-ESM1-2-HR/ssp126/r1i1p1f1/Ofx/areacello/gn/v20190710/areacello_Ofx_MPI-ESM1-2-HR_ssp126_r1i1p1f1_gn.nc'\n",
    "response = requests.get(dataset)"
   ]
  },
  {
   "cell_type": "code",
   "execution_count": 12,
   "id": "3ea49440-f6cc-4d40-80ea-7ce6ec809106",
   "metadata": {},
   "outputs": [
    {
     "data": {
      "text/plain": [
       "<function BufferedWriter.close>"
      ]
     },
     "execution_count": 12,
     "metadata": {},
     "output_type": "execute_result"
    }
   ],
   "source": [
    "fileGrep = open('testnetCDF.nc', 'wb')\n",
    "fileGrep.write(response.content)\n",
    "fileGrep.close"
   ]
  },
  {
   "cell_type": "code",
   "execution_count": 16,
   "id": "df7ae932-618f-4200-8b69-9ca7c96e7320",
   "metadata": {},
   "outputs": [],
   "source": [
    "fileGrep = '/Users/nilshempelmann/birdhouse/testdata/download_2015.nc'\n",
    "varf = netCDF4.Dataset(fileGrep)\n",
    "x0,x1 = lons_bnds[0], lons_bnds[1]\n",
    "cross_greenwich = (x0<0 and x1>0)"
   ]
  },
  {
   "cell_type": "code",
   "execution_count": 18,
   "id": "843be45f-3838-4c5e-8209-7bc49ca75027",
   "metadata": {},
   "outputs": [],
   "source": [
    "if x0<0:\n",
    "    x0=x0+360\n",
    "if x1<=0:\n",
    "    x1=x1+360\n",
    "y0,y1 = lats_bnds[0], lats_bnds[1]\n",
    "y_down,y_up = 90-y0, 90-y1\n",
    "lats_reg = varf.variables['latitude'][y0+90:y1+90]\n",
    "if cross_greenwich:\n",
    "    lons_reg_W = varf.variables['longitude'][x0:360]\n",
    "    lons_reg_E = varf.variables['longitude'][0:x1]\n",
    "    lons_reg=np.ma.concatenate((lons_reg_W, lons_reg_E))\n",
    "else:\n",
    "    lons_reg = varf.variables['longitude'][x0:x1]"
   ]
  },
  {
   "cell_type": "code",
   "execution_count": 26,
   "id": "34b8ad9b-4e15-4223-9fee-775c2ba325de",
   "metadata": {},
   "outputs": [
    {
     "ename": "ValueError",
     "evalue": "shape mismatch: value array of shape (31,180,360) could not be broadcast to indexing result of shape (2,90,180,360)",
     "output_type": "error",
     "traceback": [
      "\u001b[0;31m---------------------------------------------------------------------------\u001b[0m",
      "\u001b[0;31mValueError\u001b[0m                                Traceback (most recent call last)",
      "Input \u001b[0;32mIn [26]\u001b[0m, in \u001b[0;36m<cell line: 3>\u001b[0;34m()\u001b[0m\n\u001b[1;32m     15\u001b[0m \u001b[38;5;28;01melse\u001b[39;00m:\n\u001b[1;32m     16\u001b[0m     target_lon\u001b[38;5;241m=\u001b[39mnp\u001b[38;5;241m.\u001b[39mflip(varf\u001b[38;5;241m.\u001b[39mvariables[varname][i_start_day:i_end_day,:,x0:x1][:nday,:,:],axis\u001b[38;5;241m=\u001b[39m\u001b[38;5;241m1\u001b[39m)\n\u001b[0;32m---> 17\u001b[0m \u001b[43mtarget\u001b[49m\u001b[43m[\u001b[49m\u001b[43mi\u001b[49m\u001b[43m,\u001b[49m\u001b[43m:\u001b[49m\u001b[43m,\u001b[49m\u001b[43mj\u001b[49m\u001b[43m,\u001b[49m\u001b[43m:\u001b[49m\u001b[43m,\u001b[49m\u001b[43m:\u001b[49m\u001b[43m]\u001b[49m\u001b[38;5;241m=\u001b[39mtarget_lon[:,y_up:y_down,:]\n\u001b[1;32m     18\u001b[0m \u001b[38;5;28mprint\u001b[39m((j\u001b[38;5;241m*\u001b[39mnyear\u001b[38;5;241m+\u001b[39mi\u001b[38;5;241m+\u001b[39m\u001b[38;5;241m1\u001b[39m)\u001b[38;5;241m/\u001b[39m(nyear\u001b[38;5;241m*\u001b[39mnmemb)\u001b[38;5;241m*\u001b[39m\u001b[38;5;241m100\u001b[39m, \u001b[38;5;124m'\u001b[39m\u001b[38;5;124m \u001b[39m\u001b[38;5;132;01m% d\u001b[39;00m\u001b[38;5;124mone after : \u001b[39m\u001b[38;5;124m'\u001b[39m, time\u001b[38;5;241m.\u001b[39mtime()\u001b[38;5;241m-\u001b[39mtime_start)\n",
      "File \u001b[0;32m~/mambaforge/envs/heatwaves/lib/python3.10/site-packages/numpy/ma/core.py:3377\u001b[0m, in \u001b[0;36mMaskedArray.__setitem__\u001b[0;34m(self, indx, value)\u001b[0m\n\u001b[1;32m   3374\u001b[0m     mval \u001b[38;5;241m=\u001b[39m \u001b[38;5;28mtuple\u001b[39m([\u001b[38;5;28;01mFalse\u001b[39;00m] \u001b[38;5;241m*\u001b[39m \u001b[38;5;28mlen\u001b[39m(_dtype\u001b[38;5;241m.\u001b[39mnames))\n\u001b[1;32m   3375\u001b[0m \u001b[38;5;28;01mif\u001b[39;00m _mask \u001b[38;5;129;01mis\u001b[39;00m nomask:\n\u001b[1;32m   3376\u001b[0m     \u001b[38;5;66;03m# Set the data, then the mask\u001b[39;00m\n\u001b[0;32m-> 3377\u001b[0m     \u001b[43m_data\u001b[49m\u001b[43m[\u001b[49m\u001b[43mindx\u001b[49m\u001b[43m]\u001b[49m \u001b[38;5;241m=\u001b[39m dval\n\u001b[1;32m   3378\u001b[0m     \u001b[38;5;28;01mif\u001b[39;00m mval \u001b[38;5;129;01mis\u001b[39;00m \u001b[38;5;129;01mnot\u001b[39;00m nomask:\n\u001b[1;32m   3379\u001b[0m         _mask \u001b[38;5;241m=\u001b[39m \u001b[38;5;28mself\u001b[39m\u001b[38;5;241m.\u001b[39m_mask \u001b[38;5;241m=\u001b[39m make_mask_none(\u001b[38;5;28mself\u001b[39m\u001b[38;5;241m.\u001b[39mshape, _dtype)\n",
      "\u001b[0;31mValueError\u001b[0m: shape mismatch: value array of shape (31,180,360) could not be broadcast to indexing result of shape (2,90,180,360)"
     ]
    }
   ],
   "source": [
    "varname = 't2m'\n",
    "target=np.ma.zeros((nyear, nday, nmemb, nlat, nlon))\n",
    "for j in enumerate(range(first_memb, last_memb)):\n",
    "    for i,iyear in enumerate(range(start_year, end_year+1)):\n",
    "        #print(i, iyear)\n",
    "        i_start_day = (date(iyear,season_start_day[0], season_start_day[1])-date(start_year,1,1)).days\n",
    "        i_end_day = (date(iyear+1,season_end_day[0], season_end_day[1])-date(start_year,1,1)).days\n",
    "\n",
    "        if cross_greenwich:\n",
    "            #print(x0,x1)\n",
    "            target_W=varf.variables[varname][i_start_day:i_end_day,:,x0:360][:nday,:,:]\n",
    "            target_E=varf.variables[varname][i_start_day:i_end_day,:,0:x1][:nday,:,:]\n",
    "            #print(target_W.shape, target_E.shape)\n",
    "            target_lon=np.flip(np.ma.concatenate((target_W,target_E), axis=2), axis=1)\n",
    "        else:\n",
    "            target_lon=np.flip(varf.variables[varname][i_start_day:i_end_day,:,x0:x1][:nday,:,:],axis=1)\n",
    "        target[i,:,j,:,:]=target_lon[:,y_up:y_down,:]\n",
    "        print((j*nyear+i+1)/(nyear*nmemb)*100, ' % done after : ', time.time()-time_start)       "
   ]
  },
  {
   "cell_type": "code",
   "execution_count": 24,
   "id": "a828ffec-bd13-4463-a1ba-0623e437275c",
   "metadata": {},
   "outputs": [
    {
     "ename": "IndentationError",
     "evalue": "unindent does not match any outer indentation level (<tokenize>, line 4)",
     "output_type": "error",
     "traceback": [
      "\u001b[0;36m  File \u001b[0;32m<tokenize>:4\u001b[0;36m\u001b[0m\n\u001b[0;31m    else:\u001b[0m\n\u001b[0m    ^\u001b[0m\n\u001b[0;31mIndentationError\u001b[0m\u001b[0;31m:\u001b[0m unindent does not match any outer indentation level\n"
     ]
    }
   ],
   "source": []
  },
  {
   "cell_type": "code",
   "execution_count": null,
   "id": "e61972aa-df37-449c-a700-3017a0d4c4d0",
   "metadata": {},
   "outputs": [],
   "source": [
    "if expname == \"ocean_reanalysis_GREP\":\n",
    "    fileGrep = \"/cnrm/pastel/USERS/lecestres/NO_SAVE/data/ocean_reanalysis_GREP/sst_GREP_1d_199301_201812.nc\"\n",
    "                 \n",
    "elif expname == \"sst_retroprevision_sys7\":\n",
    "    pathPrevi = \"/cnrm/pastel/DATA/sys7/series/sst/HK/\"\n",
    "    files = glob(pathPrevi+\"*.nc\")\n",
    "    files.sort()\n",
    "    target = np.ma.zeros((nyear, nday, nmemb, nlat, nlon))\n",
    "    for i,iyear in enumerate(range(start_year, end_year+1)):\n",
    "        varf = netCDF4.Dataset(files[i])\n",
    "        vararray, lats_reg, lons_reg = extract_array(varf, varname, nday,  np.array(lons_bnds), np.array(lats_bnds), start_time = first_day)\n",
    "        varf.close()\n",
    "        for j,jmemb in enumerate(range(first_memb, last_memb)):\n",
    "            target[i,:,j,:,:] = vararray[:,jmemb,:,:]    \n",
    "            target.mask[i,:,j,:,:] = vararray.mask[:,jmemb,:,:]\n",
    "            print((i*nmemb+j+1)/(nyear*nmemb)*100, ' % done after : ', time.time()-time_start)"
   ]
  },
  {
   "cell_type": "code",
   "execution_count": null,
   "id": "0492c0e8-9e28-4b82-a6a8-f14640c93ab2",
   "metadata": {},
   "outputs": [],
   "source": []
  },
  {
   "cell_type": "code",
   "execution_count": 3,
   "id": "4f706c01-a0e7-4556-9828-b76afce4a683",
   "metadata": {},
   "outputs": [],
   "source": [
    "# Heatwave specific\n",
    "from function_read import *\n",
    "from HW_detection import *\n",
    "from HWMI import *"
   ]
  },
  {
   "cell_type": "code",
   "execution_count": null,
   "id": "c30d1231-9c6d-4dbc-9b96-1636dfbcd4db",
   "metadata": {},
   "outputs": [],
   "source": [
    "# Analytic \n",
    "import numpy as np\n",
    "import calendar\n",
    "import locale\n",
    "locale.setlocale( locale.LC_ALL , 'en_US' )\n",
    "from netCDF4 import num2date, date2num \n",
    "import netCDF4\n",
    "from math import sin, cos, sqrt, atan2, radians\n",
    "from sklearn.neighbors import DistanceMetric\n",
    "from math import radians\n",
    "\n",
    "from joblib import Parallel, delayed\n",
    "import joblib"
   ]
  },
  {
   "cell_type": "code",
   "execution_count": null,
   "id": "ee506ea8-e98f-490a-8a8f-624f7bd587e1",
   "metadata": {},
   "outputs": [],
   "source": [
    "# Visualisation\n",
    "import matplotlib\n",
    "#matplotlib.use('Agg')\n",
    "from mpl_toolkits.axes_grid1 import make_axes_locatable\n",
    "import matplotlib.pyplot as plt\n",
    "# from mpl_toolkits.basemap import Basemap, shiftgrid"
   ]
  },
  {
   "cell_type": "code",
   "execution_count": null,
   "id": "cb1aee6c-0e86-4ff9-a9c1-27e06dfae70a",
   "metadata": {},
   "outputs": [],
   "source": []
  }
 ],
 "metadata": {
  "kernelspec": {
   "display_name": "Python 3 (ipykernel)",
   "language": "python",
   "name": "python3"
  },
  "language_info": {
   "codemirror_mode": {
    "name": "ipython",
    "version": 3
   },
   "file_extension": ".py",
   "mimetype": "text/x-python",
   "name": "python",
   "nbconvert_exporter": "python",
   "pygments_lexer": "ipython3",
   "version": "3.10.5"
  }
 },
 "nbformat": 4,
 "nbformat_minor": 5
}
