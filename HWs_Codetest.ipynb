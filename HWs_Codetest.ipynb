{
 "cells": [
  {
   "cell_type": "code",
   "execution_count": 1,
   "id": "497b7e22-5542-45cf-ad56-d9db508d1242",
   "metadata": {},
   "outputs": [],
   "source": [
    "# System \n",
    "#This script computes the HWMI based on daily fields for a specific period in cross-validation. \n",
    "import matplotlib\n",
    "from scipy import signal\n",
    "import os\n",
    "import datetime\n",
    "import time\n",
    "import copy\n",
    "import shutil\n",
    "import sys\n",
    "from function_read import *\n",
    "import numpy as np\n",
    "from scipy.stats import gaussian_kde\n",
    "import xarray as xr\n",
    "import calendar\n",
    "import locale\n",
    "from netCDF4 import num2date, date2num\n",
    "from joblib import Parallel, delayed\n",
    "import joblib\n",
    "from netCDF4 import num2date, date2num, Dataset\n",
    "from numpy import dtype"
   ]
  },
  {
   "cell_type": "code",
   "execution_count": 29,
   "id": "2db64ddd-b54e-426d-8dac-490f956d7373",
   "metadata": {},
   "outputs": [],
   "source": [
    "var='tmax'\n",
    "expname='ERA5'\n",
    "memb_str='0' # there are not members for ERA5\n",
    "nrealisation=1\n",
    "\n",
    "reg_name ='global'\n",
    "\n",
    "# Region #\n",
    "if reg_name == 'Europe':\n",
    "    min_lon = -15\n",
    "    min_lat = 25\n",
    "    max_lon = 60\n",
    "    max_lat = 70\n",
    "if reg_name == 'global':\n",
    "    min_lon = 0\n",
    "    min_lat = -90\n",
    "    max_lon = 360\n",
    "    max_lat = 90\n",
    "\n",
    "lats_bnds = np.array([min_lat,max_lat])\n",
    "lons_bnds = np.array([min_lon, max_lon])\n",
    "# Season #\n",
    "season='15MJJA'\n",
    "season_start_day=[5,15]\n",
    "season_start_day=[8,31]\n",
    "\n",
    "# nday=109 #15 of May to 31st of Aug\n",
    "nday=365\n",
    "# Period #\n",
    "ref_year1=2015\n",
    "ref_year2=2015\n",
    "nyear=len(range(ref_year1,ref_year2))+1"
   ]
  },
  {
   "cell_type": "code",
   "execution_count": 30,
   "id": "3597836a-68d8-45bf-8f1c-318b24a86c81",
   "metadata": {},
   "outputs": [],
   "source": [
    "low=False # if data with 1 degree resolution is used (True) or not (False)\n",
    "\n",
    "if (low==True):\n",
    "    # path=\"/work/csp/vt17420/ERA5/daily/russo/\"+var+\"_r360x180/\"\n",
    "    # Where the outputs will be saved\n",
    "    # dirout=\"/work/csp/vt17420/ERA5/daily/russo/\"+var+\"_r360x180/HWMI/\"\n",
    "    path=\"/Users/nilshempelmann/birdhouse/testdata/\"\n",
    "    dirout=\"/Users/nilshempelmann/birdhouse/testdata/\"\n",
    "    lons_reg=np.arange(min_lon,max_lon,1)\n",
    "    lats_reg=np.arange(min_lat,max_lat,1)\n",
    "    nlon=len(lons_reg)\n",
    "    nlat=len(lats_reg)\n",
    "else:\n",
    "    # path=\"/work/csp/vt17420/ERA5/daily/global/\"+var+\"/\"\n",
    "    # dirout=\"/data/csp/vt17420/CLINT_PRODUCTS/\"+expname+\"_HWMI_\"+var+\"/\"\n",
    "    path=\"/Users/nilshempelmann/birdhouse/testdata/\"\n",
    "    dirout=\"/Users/nilshempelmann/birdhouse/testdata/\"\n",
    "    lons_reg=np.arange(min_lon,max_lon+0.25,0.25)\n",
    "    lats_reg=np.arange(min_lat,max_lat+0.25,0.25)\n",
    "    nlon=len(lons_reg)\n",
    "    nlat=len(lats_reg)"
   ]
  },
  {
   "cell_type": "code",
   "execution_count": 31,
   "id": "7d97a252-04c6-45ae-8ecf-0d8fa690ff85",
   "metadata": {},
   "outputs": [
    {
     "data": {
      "text/plain": [
       "(1441, 721, 1, 365, 1)"
      ]
     },
     "execution_count": 31,
     "metadata": {},
     "output_type": "execute_result"
    }
   ],
   "source": [
    "# file preaparation and data selections. \n",
    "file = '/Users/nilshempelmann/birdhouse/testdata/download_2015.nc'\n",
    "# nlon = 241 \n",
    "\n",
    "# data=np.zeros((nlon,nlat,nyear,nday,1)) # daily data for all the years\n",
    "# data=np.zeros((241,181,nyear,nday,1))\n",
    "# data.shape"
   ]
  },
  {
   "cell_type": "code",
   "execution_count": 41,
   "id": "b872233e-2fe4-4f12-8fc3-98ea0e95f5bb",
   "metadata": {},
   "outputs": [],
   "source": [
    "for iyear,year in enumerate(range(ref_year1,ref_year2)):\n",
    "    print(year)\n",
    "    days_may=np.linspace(15, 31, num=17)\n",
    "    # obs1=xr.open_dataset(path+var+\"_\"+str(year)+'05.nc')\n",
    "    obs1=xr.open_dataset(file)\n",
    "    #if low==False:\n",
    "    # selecting BBox:    \n",
    "        # obs1 = obs1.sel(latitude=slice(max_lat,min_lat),longitude=slice(min_lon,max_lon))\n",
    "    # selecting time and bbox \n",
    "    obs=obs1.sel(time=obs1.time.time.dt.day.isin(days_may))\n",
    "    # selection of the days in june, july and august\n",
    "    for mon in range(6,9):\n",
    "        # obs1=xr.open_dataset(path+var+\"_\"+str(year)+str(mon).zfill(2)+'.nc')\n",
    "        obs1=xr.open_dataset(file)\n",
    "     #   if low==False:\n",
    "          #  obs1 = obs1.sel(latitude=slice(max_lat,min_lat),longitude=slice(min_lon,max_lon))\n",
    "        obs=xr.merge(([obs,obs1]))\n",
    "#    data[:,:,iyear,:,0]=np.transpose(obs.to_array()[0,:,:,:],[2,1,0])\n",
    "    data[:,:,0,:,0]=np.transpose(obs.to_array()[0,:,:,:],[2,1,0])"
   ]
  },
  {
   "cell_type": "code",
   "execution_count": 42,
   "id": "731c25aa-56bd-4419-a604-7351e3beda08",
   "metadata": {},
   "outputs": [
    {
     "data": {
      "text/plain": [
       "(1441, 721, 1, 365, 1)"
      ]
     },
     "execution_count": 42,
     "metadata": {},
     "output_type": "execute_result"
    }
   ],
   "source": [
    "data.shape"
   ]
  },
  {
   "cell_type": "code",
   "execution_count": null,
   "id": "14fdc76f-5006-4e90-9dae-a1ca8efb56fb",
   "metadata": {},
   "outputs": [],
   "source": []
  },
  {
   "cell_type": "code",
   "execution_count": 37,
   "id": "a6afcadc-373f-4cd8-9024-02e96832b894",
   "metadata": {},
   "outputs": [],
   "source": [
    "### PERCENTILE THRESHOLD\n",
    "#percent_thresh = 95\n",
    "percent_thresh = 90\n",
    "cv='CV'\n",
    "cv_str = cv\n",
    "### MINIMAL DURATION OF A HW\n",
    "#duration_min = 5\n",
    "duration_min = 3"
   ]
  },
  {
   "cell_type": "code",
   "execution_count": 38,
   "id": "85585f3f-a766-42cb-a272-d51874a83b75",
   "metadata": {},
   "outputs": [],
   "source": [
    "from HWMI import *"
   ]
  },
  {
   "cell_type": "code",
   "execution_count": 43,
   "id": "3b50f79b-ee2c-4019-a6cb-564b4996ba6e",
   "metadata": {},
   "outputs": [],
   "source": [
    "nmemb=data.shape[4]\n",
    "ndayseas = nday//duration_min +1\n",
    "HWMI = np.zeros((nyear,nmemb,nlat,nlon))\n",
    "ndayexedthreshold = np.zeros((nyear,nmemb,nlat,nlon))\n",
    "subHWarray = np.zeros((nyear, ndayseas, nmemb, nlat, nlon))\n",
    "#HW = np.zeros((nyear,nmemb,nday,nlat,nlon))\n",
    "#DDthreshold = np.zeros((nyear,nmemb,nlat,nlon))\n",
    "#fitsubHWarray = np.zeros((nyear, ndayseas, nmemb, nlat, nlon))\n",
    "#impossible_fit_list = []\n",
    "#sstMeanarray = np.zeros((nyear,nmemb,nlat,nlon))\n",
    "\n",
    "def parallelized_HWMIs_computation(ilat, ilon):    #, HWMI, ndayexedthreshold, DDthreshold, fitsubHWarray, subHWarray):\n",
    "        HWMIyear, HWlstyear, HWstartmembyear, HWendmembyear, ndayexedthresholdyear, DDthresholdyear, subHWarrayyear, fitsubHWarrayyear, sstMeanarrayyear, impossible_fit = calc_HWMIyear(data[ilon,ilat,:,:,:], cross_valid = cv, percent_thresh = percent_thresh, duration_min = duration_min)\n",
    "        #print HWMIyear\n",
    "        HWMI[:,:,ilat,ilon]=np.array(HWMIyear)\n",
    "        ndayexedthreshold[:,:,ilat,ilon]=np.array(ndayexedthresholdyear)\n",
    "        subHWarray[:,:, :, ilat,ilon]=np.array(subHWarrayyear)\n",
    "        #DDthreshold[:,:,ilat,ilon]=np.array(DDthresholdyear)\n",
    "        #fitsubHWarray[:,:, :, ilat,ilon]=np.array(fitsubHWarrayyear)\n",
    "        #sstMeanarray[:,:,ilat,ilon]=np.array(sstMeanarrayyear)\n",
    "        #impossible_fit_list.append((impossible_fit,ilat,ilon))\n",
    "        return()"
   ]
  },
  {
   "cell_type": "code",
   "execution_count": 44,
   "id": "a6c65e4e-b0b5-49ff-967b-e9a2b2e859e0",
   "metadata": {},
   "outputs": [
    {
     "name": "stderr",
     "output_type": "stream",
     "text": [
      "[Parallel(n_jobs=-1)]: Using backend ThreadingBackend with 8 concurrent workers.\n"
     ]
    },
    {
     "ename": "IndexError",
     "evalue": "cannot do a non-empty take from an empty axes.",
     "output_type": "error",
     "traceback": [
      "\u001b[0;31m---------------------------------------------------------------------------\u001b[0m",
      "\u001b[0;31mIndexError\u001b[0m                                Traceback (most recent call last)",
      "Input \u001b[0;32mIn [44]\u001b[0m, in \u001b[0;36m<cell line: 1>\u001b[0;34m()\u001b[0m\n\u001b[0;32m----> 1\u001b[0m \u001b[43mParallel\u001b[49m\u001b[43m(\u001b[49m\u001b[43mn_jobs\u001b[49m\u001b[38;5;241;43m=\u001b[39;49m\u001b[38;5;241;43m-\u001b[39;49m\u001b[38;5;241;43m1\u001b[39;49m\u001b[43m,\u001b[49m\u001b[43m \u001b[49m\u001b[43mtimeout\u001b[49m\u001b[43m \u001b[49m\u001b[38;5;241;43m=\u001b[39;49m\u001b[43m \u001b[49m\u001b[38;5;241;43m5\u001b[39;49m\u001b[38;5;241;43m*\u001b[39;49m\u001b[38;5;241;43m3600\u001b[39;49m\u001b[43m,\u001b[49m\u001b[43m \u001b[49m\u001b[43mverbose\u001b[49m\u001b[43m \u001b[49m\u001b[38;5;241;43m=\u001b[39;49m\u001b[43m \u001b[49m\u001b[38;5;241;43m20\u001b[39;49m\u001b[43m,\u001b[49m\u001b[43m \u001b[49m\u001b[43mrequire\u001b[49m\u001b[38;5;241;43m=\u001b[39;49m\u001b[38;5;124;43m'\u001b[39;49m\u001b[38;5;124;43msharedmem\u001b[39;49m\u001b[38;5;124;43m'\u001b[39;49m\u001b[43m,\u001b[49m\u001b[43m \u001b[49m\u001b[43mmmap_mode\u001b[49m\u001b[38;5;241;43m=\u001b[39;49m\u001b[38;5;124;43m'\u001b[39;49m\u001b[38;5;124;43mw+\u001b[39;49m\u001b[38;5;124;43m'\u001b[39;49m\u001b[43m)\u001b[49m\u001b[43m(\u001b[49m\u001b[43mdelayed\u001b[49m\u001b[43m(\u001b[49m\u001b[43mparallelized_HWMIs_computation\u001b[49m\u001b[43m)\u001b[49m\u001b[43m(\u001b[49m\u001b[43milat\u001b[49m\u001b[43m,\u001b[49m\u001b[43m \u001b[49m\u001b[43milon\u001b[49m\u001b[43m)\u001b[49m\u001b[43m \u001b[49m\u001b[38;5;28;43;01mfor\u001b[39;49;00m\u001b[43m \u001b[49m\u001b[43milat\u001b[49m\u001b[43m \u001b[49m\u001b[38;5;129;43;01min\u001b[39;49;00m\u001b[43m \u001b[49m\u001b[38;5;28;43mrange\u001b[39;49m\u001b[43m(\u001b[49m\u001b[43mnlat\u001b[49m\u001b[43m)\u001b[49m\u001b[43m \u001b[49m\u001b[38;5;28;43;01mfor\u001b[39;49;00m\u001b[43m \u001b[49m\u001b[43milon\u001b[49m\u001b[43m \u001b[49m\u001b[38;5;129;43;01min\u001b[39;49;00m\u001b[43m \u001b[49m\u001b[38;5;28;43mrange\u001b[39;49m\u001b[43m(\u001b[49m\u001b[43mnlon\u001b[49m\u001b[43m)\u001b[49m\u001b[43m)\u001b[49m\n",
      "File \u001b[0;32m~/mambaforge/envs/heatwaves/lib/python3.10/site-packages/joblib/parallel.py:1056\u001b[0m, in \u001b[0;36mParallel.__call__\u001b[0;34m(self, iterable)\u001b[0m\n\u001b[1;32m   1053\u001b[0m     \u001b[38;5;28mself\u001b[39m\u001b[38;5;241m.\u001b[39m_iterating \u001b[38;5;241m=\u001b[39m \u001b[38;5;28;01mFalse\u001b[39;00m\n\u001b[1;32m   1055\u001b[0m \u001b[38;5;28;01mwith\u001b[39;00m \u001b[38;5;28mself\u001b[39m\u001b[38;5;241m.\u001b[39m_backend\u001b[38;5;241m.\u001b[39mretrieval_context():\n\u001b[0;32m-> 1056\u001b[0m     \u001b[38;5;28;43mself\u001b[39;49m\u001b[38;5;241;43m.\u001b[39;49m\u001b[43mretrieve\u001b[49m\u001b[43m(\u001b[49m\u001b[43m)\u001b[49m\n\u001b[1;32m   1057\u001b[0m \u001b[38;5;66;03m# Make sure that we get a last message telling us we are done\u001b[39;00m\n\u001b[1;32m   1058\u001b[0m elapsed_time \u001b[38;5;241m=\u001b[39m time\u001b[38;5;241m.\u001b[39mtime() \u001b[38;5;241m-\u001b[39m \u001b[38;5;28mself\u001b[39m\u001b[38;5;241m.\u001b[39m_start_time\n",
      "File \u001b[0;32m~/mambaforge/envs/heatwaves/lib/python3.10/site-packages/joblib/parallel.py:935\u001b[0m, in \u001b[0;36mParallel.retrieve\u001b[0;34m(self)\u001b[0m\n\u001b[1;32m    933\u001b[0m \u001b[38;5;28;01mtry\u001b[39;00m:\n\u001b[1;32m    934\u001b[0m     \u001b[38;5;28;01mif\u001b[39;00m \u001b[38;5;28mgetattr\u001b[39m(\u001b[38;5;28mself\u001b[39m\u001b[38;5;241m.\u001b[39m_backend, \u001b[38;5;124m'\u001b[39m\u001b[38;5;124msupports_timeout\u001b[39m\u001b[38;5;124m'\u001b[39m, \u001b[38;5;28;01mFalse\u001b[39;00m):\n\u001b[0;32m--> 935\u001b[0m         \u001b[38;5;28mself\u001b[39m\u001b[38;5;241m.\u001b[39m_output\u001b[38;5;241m.\u001b[39mextend(\u001b[43mjob\u001b[49m\u001b[38;5;241;43m.\u001b[39;49m\u001b[43mget\u001b[49m\u001b[43m(\u001b[49m\u001b[43mtimeout\u001b[49m\u001b[38;5;241;43m=\u001b[39;49m\u001b[38;5;28;43mself\u001b[39;49m\u001b[38;5;241;43m.\u001b[39;49m\u001b[43mtimeout\u001b[49m\u001b[43m)\u001b[49m)\n\u001b[1;32m    936\u001b[0m     \u001b[38;5;28;01melse\u001b[39;00m:\n\u001b[1;32m    937\u001b[0m         \u001b[38;5;28mself\u001b[39m\u001b[38;5;241m.\u001b[39m_output\u001b[38;5;241m.\u001b[39mextend(job\u001b[38;5;241m.\u001b[39mget())\n",
      "File \u001b[0;32m~/mambaforge/envs/heatwaves/lib/python3.10/multiprocessing/pool.py:771\u001b[0m, in \u001b[0;36mApplyResult.get\u001b[0;34m(self, timeout)\u001b[0m\n\u001b[1;32m    769\u001b[0m     \u001b[38;5;28;01mreturn\u001b[39;00m \u001b[38;5;28mself\u001b[39m\u001b[38;5;241m.\u001b[39m_value\n\u001b[1;32m    770\u001b[0m \u001b[38;5;28;01melse\u001b[39;00m:\n\u001b[0;32m--> 771\u001b[0m     \u001b[38;5;28;01mraise\u001b[39;00m \u001b[38;5;28mself\u001b[39m\u001b[38;5;241m.\u001b[39m_value\n",
      "File \u001b[0;32m~/mambaforge/envs/heatwaves/lib/python3.10/multiprocessing/pool.py:125\u001b[0m, in \u001b[0;36mworker\u001b[0;34m(inqueue, outqueue, initializer, initargs, maxtasks, wrap_exception)\u001b[0m\n\u001b[1;32m    123\u001b[0m job, i, func, args, kwds \u001b[38;5;241m=\u001b[39m task\n\u001b[1;32m    124\u001b[0m \u001b[38;5;28;01mtry\u001b[39;00m:\n\u001b[0;32m--> 125\u001b[0m     result \u001b[38;5;241m=\u001b[39m (\u001b[38;5;28;01mTrue\u001b[39;00m, \u001b[43mfunc\u001b[49m\u001b[43m(\u001b[49m\u001b[38;5;241;43m*\u001b[39;49m\u001b[43margs\u001b[49m\u001b[43m,\u001b[49m\u001b[43m \u001b[49m\u001b[38;5;241;43m*\u001b[39;49m\u001b[38;5;241;43m*\u001b[39;49m\u001b[43mkwds\u001b[49m\u001b[43m)\u001b[49m)\n\u001b[1;32m    126\u001b[0m \u001b[38;5;28;01mexcept\u001b[39;00m \u001b[38;5;167;01mException\u001b[39;00m \u001b[38;5;28;01mas\u001b[39;00m e:\n\u001b[1;32m    127\u001b[0m     \u001b[38;5;28;01mif\u001b[39;00m wrap_exception \u001b[38;5;129;01mand\u001b[39;00m func \u001b[38;5;129;01mis\u001b[39;00m \u001b[38;5;129;01mnot\u001b[39;00m _helper_reraises_exception:\n",
      "File \u001b[0;32m~/mambaforge/envs/heatwaves/lib/python3.10/site-packages/joblib/_parallel_backends.py:595\u001b[0m, in \u001b[0;36mSafeFunction.__call__\u001b[0;34m(self, *args, **kwargs)\u001b[0m\n\u001b[1;32m    593\u001b[0m \u001b[38;5;28;01mdef\u001b[39;00m \u001b[38;5;21m__call__\u001b[39m(\u001b[38;5;28mself\u001b[39m, \u001b[38;5;241m*\u001b[39margs, \u001b[38;5;241m*\u001b[39m\u001b[38;5;241m*\u001b[39mkwargs):\n\u001b[1;32m    594\u001b[0m     \u001b[38;5;28;01mtry\u001b[39;00m:\n\u001b[0;32m--> 595\u001b[0m         \u001b[38;5;28;01mreturn\u001b[39;00m \u001b[38;5;28;43mself\u001b[39;49m\u001b[38;5;241;43m.\u001b[39;49m\u001b[43mfunc\u001b[49m\u001b[43m(\u001b[49m\u001b[38;5;241;43m*\u001b[39;49m\u001b[43margs\u001b[49m\u001b[43m,\u001b[49m\u001b[43m \u001b[49m\u001b[38;5;241;43m*\u001b[39;49m\u001b[38;5;241;43m*\u001b[39;49m\u001b[43mkwargs\u001b[49m\u001b[43m)\u001b[49m\n\u001b[1;32m    596\u001b[0m     \u001b[38;5;28;01mexcept\u001b[39;00m \u001b[38;5;167;01mKeyboardInterrupt\u001b[39;00m \u001b[38;5;28;01mas\u001b[39;00m e:\n\u001b[1;32m    597\u001b[0m         \u001b[38;5;66;03m# We capture the KeyboardInterrupt and reraise it as\u001b[39;00m\n\u001b[1;32m    598\u001b[0m         \u001b[38;5;66;03m# something different, as multiprocessing does not\u001b[39;00m\n\u001b[1;32m    599\u001b[0m         \u001b[38;5;66;03m# interrupt processing for a KeyboardInterrupt\u001b[39;00m\n\u001b[1;32m    600\u001b[0m         \u001b[38;5;28;01mraise\u001b[39;00m WorkerInterrupt() \u001b[38;5;28;01mfrom\u001b[39;00m \u001b[38;5;21;01me\u001b[39;00m\n",
      "File \u001b[0;32m~/mambaforge/envs/heatwaves/lib/python3.10/site-packages/joblib/parallel.py:262\u001b[0m, in \u001b[0;36mBatchedCalls.__call__\u001b[0;34m(self)\u001b[0m\n\u001b[1;32m    258\u001b[0m \u001b[38;5;28;01mdef\u001b[39;00m \u001b[38;5;21m__call__\u001b[39m(\u001b[38;5;28mself\u001b[39m):\n\u001b[1;32m    259\u001b[0m     \u001b[38;5;66;03m# Set the default nested backend to self._backend but do not set the\u001b[39;00m\n\u001b[1;32m    260\u001b[0m     \u001b[38;5;66;03m# change the default number of processes to -1\u001b[39;00m\n\u001b[1;32m    261\u001b[0m     \u001b[38;5;28;01mwith\u001b[39;00m parallel_backend(\u001b[38;5;28mself\u001b[39m\u001b[38;5;241m.\u001b[39m_backend, n_jobs\u001b[38;5;241m=\u001b[39m\u001b[38;5;28mself\u001b[39m\u001b[38;5;241m.\u001b[39m_n_jobs):\n\u001b[0;32m--> 262\u001b[0m         \u001b[38;5;28;01mreturn\u001b[39;00m [func(\u001b[38;5;241m*\u001b[39margs, \u001b[38;5;241m*\u001b[39m\u001b[38;5;241m*\u001b[39mkwargs)\n\u001b[1;32m    263\u001b[0m                 \u001b[38;5;28;01mfor\u001b[39;00m func, args, kwargs \u001b[38;5;129;01min\u001b[39;00m \u001b[38;5;28mself\u001b[39m\u001b[38;5;241m.\u001b[39mitems]\n",
      "File \u001b[0;32m~/mambaforge/envs/heatwaves/lib/python3.10/site-packages/joblib/parallel.py:262\u001b[0m, in \u001b[0;36m<listcomp>\u001b[0;34m(.0)\u001b[0m\n\u001b[1;32m    258\u001b[0m \u001b[38;5;28;01mdef\u001b[39;00m \u001b[38;5;21m__call__\u001b[39m(\u001b[38;5;28mself\u001b[39m):\n\u001b[1;32m    259\u001b[0m     \u001b[38;5;66;03m# Set the default nested backend to self._backend but do not set the\u001b[39;00m\n\u001b[1;32m    260\u001b[0m     \u001b[38;5;66;03m# change the default number of processes to -1\u001b[39;00m\n\u001b[1;32m    261\u001b[0m     \u001b[38;5;28;01mwith\u001b[39;00m parallel_backend(\u001b[38;5;28mself\u001b[39m\u001b[38;5;241m.\u001b[39m_backend, n_jobs\u001b[38;5;241m=\u001b[39m\u001b[38;5;28mself\u001b[39m\u001b[38;5;241m.\u001b[39m_n_jobs):\n\u001b[0;32m--> 262\u001b[0m         \u001b[38;5;28;01mreturn\u001b[39;00m [\u001b[43mfunc\u001b[49m\u001b[43m(\u001b[49m\u001b[38;5;241;43m*\u001b[39;49m\u001b[43margs\u001b[49m\u001b[43m,\u001b[49m\u001b[43m \u001b[49m\u001b[38;5;241;43m*\u001b[39;49m\u001b[38;5;241;43m*\u001b[39;49m\u001b[43mkwargs\u001b[49m\u001b[43m)\u001b[49m\n\u001b[1;32m    263\u001b[0m                 \u001b[38;5;28;01mfor\u001b[39;00m func, args, kwargs \u001b[38;5;129;01min\u001b[39;00m \u001b[38;5;28mself\u001b[39m\u001b[38;5;241m.\u001b[39mitems]\n",
      "Input \u001b[0;32mIn [43]\u001b[0m, in \u001b[0;36mparallelized_HWMIs_computation\u001b[0;34m(ilat, ilon)\u001b[0m\n\u001b[1;32m     12\u001b[0m \u001b[38;5;28;01mdef\u001b[39;00m \u001b[38;5;21mparallelized_HWMIs_computation\u001b[39m(ilat, ilon):    \u001b[38;5;66;03m#, HWMI, ndayexedthreshold, DDthreshold, fitsubHWarray, subHWarray):\u001b[39;00m\n\u001b[0;32m---> 13\u001b[0m         HWMIyear, HWlstyear, HWstartmembyear, HWendmembyear, ndayexedthresholdyear, DDthresholdyear, subHWarrayyear, fitsubHWarrayyear, sstMeanarrayyear, impossible_fit \u001b[38;5;241m=\u001b[39m \u001b[43mcalc_HWMIyear\u001b[49m\u001b[43m(\u001b[49m\u001b[43mdata\u001b[49m\u001b[43m[\u001b[49m\u001b[43milon\u001b[49m\u001b[43m,\u001b[49m\u001b[43milat\u001b[49m\u001b[43m,\u001b[49m\u001b[43m:\u001b[49m\u001b[43m,\u001b[49m\u001b[43m:\u001b[49m\u001b[43m,\u001b[49m\u001b[43m:\u001b[49m\u001b[43m]\u001b[49m\u001b[43m,\u001b[49m\u001b[43m \u001b[49m\u001b[43mcross_valid\u001b[49m\u001b[43m \u001b[49m\u001b[38;5;241;43m=\u001b[39;49m\u001b[43m \u001b[49m\u001b[43mcv\u001b[49m\u001b[43m,\u001b[49m\u001b[43m \u001b[49m\u001b[43mpercent_thresh\u001b[49m\u001b[43m \u001b[49m\u001b[38;5;241;43m=\u001b[39;49m\u001b[43m \u001b[49m\u001b[43mpercent_thresh\u001b[49m\u001b[43m,\u001b[49m\u001b[43m \u001b[49m\u001b[43mduration_min\u001b[49m\u001b[43m \u001b[49m\u001b[38;5;241;43m=\u001b[39;49m\u001b[43m \u001b[49m\u001b[43mduration_min\u001b[49m\u001b[43m)\u001b[49m\n\u001b[1;32m     14\u001b[0m         \u001b[38;5;66;03m#print HWMIyear\u001b[39;00m\n\u001b[1;32m     15\u001b[0m         HWMI[:,:,ilat,ilon]\u001b[38;5;241m=\u001b[39mnp\u001b[38;5;241m.\u001b[39marray(HWMIyear)\n",
      "File \u001b[0;32m~/birdhouse/Heatwaves/HWMI.py:228\u001b[0m, in \u001b[0;36mcalc_HWMIyear\u001b[0;34m(target, cross_valid, percent_thresh, duration_min)\u001b[0m\n\u001b[1;32m    226\u001b[0m (nyear,nday,nmemb) \u001b[38;5;241m=\u001b[39m target\u001b[38;5;241m.\u001b[39mshape\n\u001b[1;32m    227\u001b[0m sstMeanarrayyear \u001b[38;5;241m=\u001b[39m np\u001b[38;5;241m.\u001b[39mmean(target, axis\u001b[38;5;241m=\u001b[39m\u001b[38;5;241m1\u001b[39m)\n\u001b[0;32m--> 228\u001b[0m HWlstmembyear, HWstartmembyear, HWendmembyear, ecdfmax, ndaysexed_percentile, DD_threshold, subHWarrayyear \u001b[38;5;241m=\u001b[39m \u001b[43mfind_subHW\u001b[49m\u001b[43m(\u001b[49m\u001b[43mtarget\u001b[49m\u001b[43m,\u001b[49m\u001b[43m \u001b[49m\u001b[43mpercent_thresh\u001b[49m\u001b[38;5;241;43m=\u001b[39;49m\u001b[43mpercent_thresh\u001b[49m\u001b[43m,\u001b[49m\u001b[43m \u001b[49m\u001b[43mduration_min\u001b[49m\u001b[38;5;241;43m=\u001b[39;49m\u001b[43mduration_min\u001b[49m\u001b[43m,\u001b[49m\u001b[43m \u001b[49m\u001b[43mcross_valid\u001b[49m\u001b[38;5;241;43m=\u001b[39;49m\u001b[43mcross_valid\u001b[49m\u001b[43m)\u001b[49m\n\u001b[1;32m    229\u001b[0m HWMIyear \u001b[38;5;241m=\u001b[39m []\n\u001b[1;32m    230\u001b[0m HWlstyear \u001b[38;5;241m=\u001b[39m []\n",
      "File \u001b[0;32m~/birdhouse/Heatwaves/HWMI.py:32\u001b[0m, in \u001b[0;36mfind_subHW\u001b[0;34m(target, percent_thresh, duration_min, cross_valid, opt)\u001b[0m\n\u001b[1;32m     28\u001b[0m perc_thresh_climlst\u001b[38;5;241m=\u001b[39m[]\n\u001b[1;32m     29\u001b[0m \u001b[38;5;28;01mfor\u001b[39;00m iyear \u001b[38;5;129;01min\u001b[39;00m \u001b[38;5;28mrange\u001b[39m(nyear):\n\u001b[1;32m     30\u001b[0m     \u001b[38;5;66;03m#print(targetaux.shape)\u001b[39;00m\n\u001b[1;32m     31\u001b[0m     \u001b[38;5;66;03m#targetaux=np.delete(targetaux[:,:,0], iyear, axis=0)\u001b[39;00m\n\u001b[0;32m---> 32\u001b[0m     perc_thresh_clim_not_smoothed\u001b[38;5;241m=\u001b[39m\u001b[43mnp\u001b[49m\u001b[38;5;241;43m.\u001b[39;49m\u001b[43mpercentile\u001b[49m\u001b[43m(\u001b[49m\u001b[43mnp\u001b[49m\u001b[38;5;241;43m.\u001b[39;49m\u001b[43mdelete\u001b[49m\u001b[43m(\u001b[49m\u001b[43mtargetaux\u001b[49m\u001b[43m[\u001b[49m\u001b[43m:\u001b[49m\u001b[43m,\u001b[49m\u001b[43m:\u001b[49m\u001b[43m,\u001b[49m\u001b[38;5;241;43m0\u001b[39;49m\u001b[43m]\u001b[49m\u001b[43m,\u001b[49m\u001b[43m \u001b[49m\u001b[43miyear\u001b[49m\u001b[43m,\u001b[49m\u001b[43m \u001b[49m\u001b[43maxis\u001b[49m\u001b[38;5;241;43m=\u001b[39;49m\u001b[38;5;241;43m0\u001b[39;49m\u001b[43m)\u001b[49m\u001b[43m,\u001b[49m\u001b[43m \u001b[49m\u001b[43mpercent_thresh\u001b[49m\u001b[43m,\u001b[49m\u001b[43m \u001b[49m\u001b[43maxis\u001b[49m\u001b[38;5;241;43m=\u001b[39;49m\u001b[38;5;241;43m0\u001b[39;49m\u001b[43m)\u001b[49m\n\u001b[1;32m     33\u001b[0m     \u001b[38;5;28;01mif\u001b[39;00m opt\u001b[38;5;241m==\u001b[39m\u001b[38;5;124m\"\u001b[39m\u001b[38;5;124mrunningmean\u001b[39m\u001b[38;5;124m\"\u001b[39m:\n\u001b[1;32m     34\u001b[0m         ndrun\u001b[38;5;241m=\u001b[39m\u001b[38;5;241m30\u001b[39m\n",
      "File \u001b[0;32m<__array_function__ internals>:180\u001b[0m, in \u001b[0;36mpercentile\u001b[0;34m(*args, **kwargs)\u001b[0m\n",
      "File \u001b[0;32m~/mambaforge/envs/heatwaves/lib/python3.10/site-packages/numpy/lib/function_base.py:4166\u001b[0m, in \u001b[0;36mpercentile\u001b[0;34m(a, q, axis, out, overwrite_input, method, keepdims, interpolation)\u001b[0m\n\u001b[1;32m   4164\u001b[0m \u001b[38;5;28;01mif\u001b[39;00m \u001b[38;5;129;01mnot\u001b[39;00m _quantile_is_valid(q):\n\u001b[1;32m   4165\u001b[0m     \u001b[38;5;28;01mraise\u001b[39;00m \u001b[38;5;167;01mValueError\u001b[39;00m(\u001b[38;5;124m\"\u001b[39m\u001b[38;5;124mPercentiles must be in the range [0, 100]\u001b[39m\u001b[38;5;124m\"\u001b[39m)\n\u001b[0;32m-> 4166\u001b[0m \u001b[38;5;28;01mreturn\u001b[39;00m \u001b[43m_quantile_unchecked\u001b[49m\u001b[43m(\u001b[49m\n\u001b[1;32m   4167\u001b[0m \u001b[43m    \u001b[49m\u001b[43ma\u001b[49m\u001b[43m,\u001b[49m\u001b[43m \u001b[49m\u001b[43mq\u001b[49m\u001b[43m,\u001b[49m\u001b[43m \u001b[49m\u001b[43maxis\u001b[49m\u001b[43m,\u001b[49m\u001b[43m \u001b[49m\u001b[43mout\u001b[49m\u001b[43m,\u001b[49m\u001b[43m \u001b[49m\u001b[43moverwrite_input\u001b[49m\u001b[43m,\u001b[49m\u001b[43m \u001b[49m\u001b[43mmethod\u001b[49m\u001b[43m,\u001b[49m\u001b[43m \u001b[49m\u001b[43mkeepdims\u001b[49m\u001b[43m)\u001b[49m\n",
      "File \u001b[0;32m~/mambaforge/envs/heatwaves/lib/python3.10/site-packages/numpy/lib/function_base.py:4424\u001b[0m, in \u001b[0;36m_quantile_unchecked\u001b[0;34m(a, q, axis, out, overwrite_input, method, keepdims)\u001b[0m\n\u001b[1;32m   4416\u001b[0m \u001b[38;5;28;01mdef\u001b[39;00m \u001b[38;5;21m_quantile_unchecked\u001b[39m(a,\n\u001b[1;32m   4417\u001b[0m                         q,\n\u001b[1;32m   4418\u001b[0m                         axis\u001b[38;5;241m=\u001b[39m\u001b[38;5;28;01mNone\u001b[39;00m,\n\u001b[0;32m   (...)\u001b[0m\n\u001b[1;32m   4421\u001b[0m                         method\u001b[38;5;241m=\u001b[39m\u001b[38;5;124m\"\u001b[39m\u001b[38;5;124mlinear\u001b[39m\u001b[38;5;124m\"\u001b[39m,\n\u001b[1;32m   4422\u001b[0m                         keepdims\u001b[38;5;241m=\u001b[39m\u001b[38;5;28;01mFalse\u001b[39;00m):\n\u001b[1;32m   4423\u001b[0m     \u001b[38;5;124;03m\"\"\"Assumes that q is in [0, 1], and is an ndarray\"\"\"\u001b[39;00m\n\u001b[0;32m-> 4424\u001b[0m     r, k \u001b[38;5;241m=\u001b[39m \u001b[43m_ureduce\u001b[49m\u001b[43m(\u001b[49m\u001b[43ma\u001b[49m\u001b[43m,\u001b[49m\n\u001b[1;32m   4425\u001b[0m \u001b[43m                    \u001b[49m\u001b[43mfunc\u001b[49m\u001b[38;5;241;43m=\u001b[39;49m\u001b[43m_quantile_ureduce_func\u001b[49m\u001b[43m,\u001b[49m\n\u001b[1;32m   4426\u001b[0m \u001b[43m                    \u001b[49m\u001b[43mq\u001b[49m\u001b[38;5;241;43m=\u001b[39;49m\u001b[43mq\u001b[49m\u001b[43m,\u001b[49m\n\u001b[1;32m   4427\u001b[0m \u001b[43m                    \u001b[49m\u001b[43maxis\u001b[49m\u001b[38;5;241;43m=\u001b[39;49m\u001b[43maxis\u001b[49m\u001b[43m,\u001b[49m\n\u001b[1;32m   4428\u001b[0m \u001b[43m                    \u001b[49m\u001b[43mout\u001b[49m\u001b[38;5;241;43m=\u001b[39;49m\u001b[43mout\u001b[49m\u001b[43m,\u001b[49m\n\u001b[1;32m   4429\u001b[0m \u001b[43m                    \u001b[49m\u001b[43moverwrite_input\u001b[49m\u001b[38;5;241;43m=\u001b[39;49m\u001b[43moverwrite_input\u001b[49m\u001b[43m,\u001b[49m\n\u001b[1;32m   4430\u001b[0m \u001b[43m                    \u001b[49m\u001b[43mmethod\u001b[49m\u001b[38;5;241;43m=\u001b[39;49m\u001b[43mmethod\u001b[49m\u001b[43m)\u001b[49m\n\u001b[1;32m   4431\u001b[0m     \u001b[38;5;28;01mif\u001b[39;00m keepdims:\n\u001b[1;32m   4432\u001b[0m         \u001b[38;5;28;01mreturn\u001b[39;00m r\u001b[38;5;241m.\u001b[39mreshape(q\u001b[38;5;241m.\u001b[39mshape \u001b[38;5;241m+\u001b[39m k)\n",
      "File \u001b[0;32m~/mambaforge/envs/heatwaves/lib/python3.10/site-packages/numpy/lib/function_base.py:3725\u001b[0m, in \u001b[0;36m_ureduce\u001b[0;34m(a, func, **kwargs)\u001b[0m\n\u001b[1;32m   3722\u001b[0m \u001b[38;5;28;01melse\u001b[39;00m:\n\u001b[1;32m   3723\u001b[0m     keepdim \u001b[38;5;241m=\u001b[39m (\u001b[38;5;241m1\u001b[39m,) \u001b[38;5;241m*\u001b[39m a\u001b[38;5;241m.\u001b[39mndim\n\u001b[0;32m-> 3725\u001b[0m r \u001b[38;5;241m=\u001b[39m \u001b[43mfunc\u001b[49m\u001b[43m(\u001b[49m\u001b[43ma\u001b[49m\u001b[43m,\u001b[49m\u001b[43m \u001b[49m\u001b[38;5;241;43m*\u001b[39;49m\u001b[38;5;241;43m*\u001b[39;49m\u001b[43mkwargs\u001b[49m\u001b[43m)\u001b[49m\n\u001b[1;32m   3726\u001b[0m \u001b[38;5;28;01mreturn\u001b[39;00m r, keepdim\n",
      "File \u001b[0;32m~/mambaforge/envs/heatwaves/lib/python3.10/site-packages/numpy/lib/function_base.py:4593\u001b[0m, in \u001b[0;36m_quantile_ureduce_func\u001b[0;34m(a, q, axis, out, overwrite_input, method)\u001b[0m\n\u001b[1;32m   4591\u001b[0m     \u001b[38;5;28;01melse\u001b[39;00m:\n\u001b[1;32m   4592\u001b[0m         arr \u001b[38;5;241m=\u001b[39m a\u001b[38;5;241m.\u001b[39mcopy()\n\u001b[0;32m-> 4593\u001b[0m result \u001b[38;5;241m=\u001b[39m \u001b[43m_quantile\u001b[49m\u001b[43m(\u001b[49m\u001b[43marr\u001b[49m\u001b[43m,\u001b[49m\n\u001b[1;32m   4594\u001b[0m \u001b[43m                   \u001b[49m\u001b[43mquantiles\u001b[49m\u001b[38;5;241;43m=\u001b[39;49m\u001b[43mq\u001b[49m\u001b[43m,\u001b[49m\n\u001b[1;32m   4595\u001b[0m \u001b[43m                   \u001b[49m\u001b[43maxis\u001b[49m\u001b[38;5;241;43m=\u001b[39;49m\u001b[43maxis\u001b[49m\u001b[43m,\u001b[49m\n\u001b[1;32m   4596\u001b[0m \u001b[43m                   \u001b[49m\u001b[43mmethod\u001b[49m\u001b[38;5;241;43m=\u001b[39;49m\u001b[43mmethod\u001b[49m\u001b[43m,\u001b[49m\n\u001b[1;32m   4597\u001b[0m \u001b[43m                   \u001b[49m\u001b[43mout\u001b[49m\u001b[38;5;241;43m=\u001b[39;49m\u001b[43mout\u001b[49m\u001b[43m)\u001b[49m\n\u001b[1;32m   4598\u001b[0m \u001b[38;5;28;01mreturn\u001b[39;00m result\n",
      "File \u001b[0;32m~/mambaforge/envs/heatwaves/lib/python3.10/site-packages/numpy/lib/function_base.py:4699\u001b[0m, in \u001b[0;36m_quantile\u001b[0;34m(arr, quantiles, axis, method, out)\u001b[0m\n\u001b[1;32m   4691\u001b[0m arr\u001b[38;5;241m.\u001b[39mpartition(\n\u001b[1;32m   4692\u001b[0m     np\u001b[38;5;241m.\u001b[39munique(np\u001b[38;5;241m.\u001b[39mconcatenate(([\u001b[38;5;241m0\u001b[39m, \u001b[38;5;241m-\u001b[39m\u001b[38;5;241m1\u001b[39m],\n\u001b[1;32m   4693\u001b[0m                               previous_indexes\u001b[38;5;241m.\u001b[39mravel(),\n\u001b[1;32m   4694\u001b[0m                               next_indexes\u001b[38;5;241m.\u001b[39mravel(),\n\u001b[1;32m   4695\u001b[0m                               ))),\n\u001b[1;32m   4696\u001b[0m     axis\u001b[38;5;241m=\u001b[39mDATA_AXIS)\n\u001b[1;32m   4697\u001b[0m \u001b[38;5;28;01mif\u001b[39;00m np\u001b[38;5;241m.\u001b[39missubdtype(arr\u001b[38;5;241m.\u001b[39mdtype, np\u001b[38;5;241m.\u001b[39minexact):\n\u001b[1;32m   4698\u001b[0m     slices_having_nans \u001b[38;5;241m=\u001b[39m np\u001b[38;5;241m.\u001b[39misnan(\n\u001b[0;32m-> 4699\u001b[0m         \u001b[43mtake\u001b[49m\u001b[43m(\u001b[49m\u001b[43marr\u001b[49m\u001b[43m,\u001b[49m\u001b[43m \u001b[49m\u001b[43mindices\u001b[49m\u001b[38;5;241;43m=\u001b[39;49m\u001b[38;5;241;43m-\u001b[39;49m\u001b[38;5;241;43m1\u001b[39;49m\u001b[43m,\u001b[49m\u001b[43m \u001b[49m\u001b[43maxis\u001b[49m\u001b[38;5;241;43m=\u001b[39;49m\u001b[43mDATA_AXIS\u001b[49m\u001b[43m)\u001b[49m\n\u001b[1;32m   4700\u001b[0m     )\n\u001b[1;32m   4701\u001b[0m \u001b[38;5;28;01melse\u001b[39;00m:\n\u001b[1;32m   4702\u001b[0m     slices_having_nans \u001b[38;5;241m=\u001b[39m \u001b[38;5;28;01mNone\u001b[39;00m\n",
      "File \u001b[0;32m<__array_function__ internals>:180\u001b[0m, in \u001b[0;36mtake\u001b[0;34m(*args, **kwargs)\u001b[0m\n",
      "File \u001b[0;32m~/mambaforge/envs/heatwaves/lib/python3.10/site-packages/numpy/core/fromnumeric.py:190\u001b[0m, in \u001b[0;36mtake\u001b[0;34m(a, indices, axis, out, mode)\u001b[0m\n\u001b[1;32m     93\u001b[0m \u001b[38;5;129m@array_function_dispatch\u001b[39m(_take_dispatcher)\n\u001b[1;32m     94\u001b[0m \u001b[38;5;28;01mdef\u001b[39;00m \u001b[38;5;21mtake\u001b[39m(a, indices, axis\u001b[38;5;241m=\u001b[39m\u001b[38;5;28;01mNone\u001b[39;00m, out\u001b[38;5;241m=\u001b[39m\u001b[38;5;28;01mNone\u001b[39;00m, mode\u001b[38;5;241m=\u001b[39m\u001b[38;5;124m'\u001b[39m\u001b[38;5;124mraise\u001b[39m\u001b[38;5;124m'\u001b[39m):\n\u001b[1;32m     95\u001b[0m     \u001b[38;5;124;03m\"\"\"\u001b[39;00m\n\u001b[1;32m     96\u001b[0m \u001b[38;5;124;03m    Take elements from an array along an axis.\u001b[39;00m\n\u001b[1;32m     97\u001b[0m \n\u001b[0;32m   (...)\u001b[0m\n\u001b[1;32m    188\u001b[0m \u001b[38;5;124;03m           [5, 7]])\u001b[39;00m\n\u001b[1;32m    189\u001b[0m \u001b[38;5;124;03m    \"\"\"\u001b[39;00m\n\u001b[0;32m--> 190\u001b[0m     \u001b[38;5;28;01mreturn\u001b[39;00m \u001b[43m_wrapfunc\u001b[49m\u001b[43m(\u001b[49m\u001b[43ma\u001b[49m\u001b[43m,\u001b[49m\u001b[43m \u001b[49m\u001b[38;5;124;43m'\u001b[39;49m\u001b[38;5;124;43mtake\u001b[39;49m\u001b[38;5;124;43m'\u001b[39;49m\u001b[43m,\u001b[49m\u001b[43m \u001b[49m\u001b[43mindices\u001b[49m\u001b[43m,\u001b[49m\u001b[43m \u001b[49m\u001b[43maxis\u001b[49m\u001b[38;5;241;43m=\u001b[39;49m\u001b[43maxis\u001b[49m\u001b[43m,\u001b[49m\u001b[43m \u001b[49m\u001b[43mout\u001b[49m\u001b[38;5;241;43m=\u001b[39;49m\u001b[43mout\u001b[49m\u001b[43m,\u001b[49m\u001b[43m \u001b[49m\u001b[43mmode\u001b[49m\u001b[38;5;241;43m=\u001b[39;49m\u001b[43mmode\u001b[49m\u001b[43m)\u001b[49m\n",
      "File \u001b[0;32m~/mambaforge/envs/heatwaves/lib/python3.10/site-packages/numpy/core/fromnumeric.py:57\u001b[0m, in \u001b[0;36m_wrapfunc\u001b[0;34m(obj, method, *args, **kwds)\u001b[0m\n\u001b[1;32m     54\u001b[0m     \u001b[38;5;28;01mreturn\u001b[39;00m _wrapit(obj, method, \u001b[38;5;241m*\u001b[39margs, \u001b[38;5;241m*\u001b[39m\u001b[38;5;241m*\u001b[39mkwds)\n\u001b[1;32m     56\u001b[0m \u001b[38;5;28;01mtry\u001b[39;00m:\n\u001b[0;32m---> 57\u001b[0m     \u001b[38;5;28;01mreturn\u001b[39;00m \u001b[43mbound\u001b[49m\u001b[43m(\u001b[49m\u001b[38;5;241;43m*\u001b[39;49m\u001b[43margs\u001b[49m\u001b[43m,\u001b[49m\u001b[43m \u001b[49m\u001b[38;5;241;43m*\u001b[39;49m\u001b[38;5;241;43m*\u001b[39;49m\u001b[43mkwds\u001b[49m\u001b[43m)\u001b[49m\n\u001b[1;32m     58\u001b[0m \u001b[38;5;28;01mexcept\u001b[39;00m \u001b[38;5;167;01mTypeError\u001b[39;00m:\n\u001b[1;32m     59\u001b[0m     \u001b[38;5;66;03m# A TypeError occurs if the object does have such a method in its\u001b[39;00m\n\u001b[1;32m     60\u001b[0m     \u001b[38;5;66;03m# class, but its signature is not identical to that of NumPy's. This\u001b[39;00m\n\u001b[0;32m   (...)\u001b[0m\n\u001b[1;32m     64\u001b[0m     \u001b[38;5;66;03m# Call _wrapit from within the except clause to ensure a potential\u001b[39;00m\n\u001b[1;32m     65\u001b[0m     \u001b[38;5;66;03m# exception has a traceback chain.\u001b[39;00m\n\u001b[1;32m     66\u001b[0m     \u001b[38;5;28;01mreturn\u001b[39;00m _wrapit(obj, method, \u001b[38;5;241m*\u001b[39margs, \u001b[38;5;241m*\u001b[39m\u001b[38;5;241m*\u001b[39mkwds)\n",
      "\u001b[0;31mIndexError\u001b[0m: cannot do a non-empty take from an empty axes."
     ]
    }
   ],
   "source": [
    "Parallel(n_jobs=-1, timeout = 5*3600, verbose = 20, require='sharedmem', mmap_mode='w+')(delayed(parallelized_HWMIs_computation)(ilat, ilon) for ilat in range(nlat) for ilon in range(nlon))"
   ]
  },
  {
   "cell_type": "code",
   "execution_count": 33,
   "id": "bc9825ed-913f-49d4-a09f-3b131c60f6e0",
   "metadata": {},
   "outputs": [
    {
     "name": "stdout",
     "output_type": "stream",
     "text": [
      "/Users/nilshempelmann/birdhouse/testdata/HWMI_tmax_Europe_15MJJA_CV_percent90_daymin3_ref_2015_2016_year_2015.nc\n"
     ]
    },
    {
     "ename": "ValueError",
     "evalue": "shape mismatch: objects cannot be broadcast to a single shape.  Mismatch is between arg 0 with shape (241,) and arg 1 with shape (301,).",
     "output_type": "error",
     "traceback": [
      "\u001b[0;31m---------------------------------------------------------------------------\u001b[0m",
      "\u001b[0;31mValueError\u001b[0m                                Traceback (most recent call last)",
      "Input \u001b[0;32mIn [33]\u001b[0m, in \u001b[0;36m<cell line: 5>\u001b[0;34m()\u001b[0m\n\u001b[1;32m     30\u001b[0m latitudes[:] \u001b[38;5;241m=\u001b[39m lats_reg\n\u001b[1;32m     31\u001b[0m lonaux \u001b[38;5;241m=\u001b[39m lons_reg\n\u001b[0;32m---> 32\u001b[0m \u001b[43mlongitudes\u001b[49m\u001b[43m[\u001b[49m\u001b[43m:\u001b[49m\u001b[43m]\u001b[49m \u001b[38;5;241m=\u001b[39m lonaux\n\u001b[1;32m     33\u001b[0m latitudes\u001b[38;5;241m.\u001b[39munits \u001b[38;5;241m=\u001b[39m \u001b[38;5;124m'\u001b[39m\u001b[38;5;124mdegree_north\u001b[39m\u001b[38;5;124m'\u001b[39m  \n\u001b[1;32m     34\u001b[0m longitudes\u001b[38;5;241m.\u001b[39munits \u001b[38;5;241m=\u001b[39m \u001b[38;5;124m'\u001b[39m\u001b[38;5;124mdegree_east\u001b[39m\u001b[38;5;124m'\u001b[39m \n",
      "File \u001b[0;32msrc/netCDF4/_netCDF4.pyx:5241\u001b[0m, in \u001b[0;36mnetCDF4._netCDF4.Variable.__setitem__\u001b[0;34m()\u001b[0m\n",
      "File \u001b[0;32m~/mambaforge/envs/heatwaves/lib/python3.10/site-packages/netCDF4/utils.py:359\u001b[0m, in \u001b[0;36m_StartCountStride\u001b[0;34m(elem, shape, dimensions, grp, datashape, put, use_get_vars)\u001b[0m\n\u001b[1;32m    357\u001b[0m     fullslice \u001b[38;5;241m=\u001b[39m \u001b[38;5;28;01mFalse\u001b[39;00m\n\u001b[1;32m    358\u001b[0m \u001b[38;5;28;01mif\u001b[39;00m fullslice \u001b[38;5;129;01mand\u001b[39;00m datashape \u001b[38;5;129;01mand\u001b[39;00m put \u001b[38;5;129;01mand\u001b[39;00m \u001b[38;5;129;01mnot\u001b[39;00m hasunlim:\n\u001b[0;32m--> 359\u001b[0m     datashape \u001b[38;5;241m=\u001b[39m \u001b[43mbroadcasted_shape\u001b[49m\u001b[43m(\u001b[49m\u001b[43mshape\u001b[49m\u001b[43m,\u001b[49m\u001b[43m \u001b[49m\u001b[43mdatashape\u001b[49m\u001b[43m)\u001b[49m\n\u001b[1;32m    361\u001b[0m \u001b[38;5;66;03m# pad datashape with zeros for dimensions not being sliced (issue #906)\u001b[39;00m\n\u001b[1;32m    362\u001b[0m \u001b[38;5;66;03m# only used when data covers slice over subset of dimensions\u001b[39;00m\n\u001b[1;32m    363\u001b[0m \u001b[38;5;28;01mif\u001b[39;00m datashape \u001b[38;5;129;01mand\u001b[39;00m \u001b[38;5;28mlen\u001b[39m(datashape) \u001b[38;5;241m!=\u001b[39m \u001b[38;5;28mlen\u001b[39m(elem) \u001b[38;5;129;01mand\u001b[39;00m\\\n\u001b[1;32m    364\u001b[0m    \u001b[38;5;28mlen\u001b[39m(datashape) \u001b[38;5;241m==\u001b[39m \u001b[38;5;28msum\u001b[39m(\u001b[38;5;241m1\u001b[39m \u001b[38;5;28;01mfor\u001b[39;00m e \u001b[38;5;129;01min\u001b[39;00m elem \u001b[38;5;28;01mif\u001b[39;00m \u001b[38;5;28mtype\u001b[39m(e) \u001b[38;5;241m==\u001b[39m \u001b[38;5;28mslice\u001b[39m):\n",
      "File \u001b[0;32m~/mambaforge/envs/heatwaves/lib/python3.10/site-packages/netCDF4/utils.py:967\u001b[0m, in \u001b[0;36mbroadcasted_shape\u001b[0;34m(shp1, shp2)\u001b[0m\n\u001b[1;32m    965\u001b[0m a \u001b[38;5;241m=\u001b[39m as_strided(x, shape\u001b[38;5;241m=\u001b[39mshp1, strides\u001b[38;5;241m=\u001b[39m[\u001b[38;5;241m0\u001b[39m] \u001b[38;5;241m*\u001b[39m \u001b[38;5;28mlen\u001b[39m(shp1))\n\u001b[1;32m    966\u001b[0m b \u001b[38;5;241m=\u001b[39m as_strided(x, shape\u001b[38;5;241m=\u001b[39mshp2, strides\u001b[38;5;241m=\u001b[39m[\u001b[38;5;241m0\u001b[39m] \u001b[38;5;241m*\u001b[39m \u001b[38;5;28mlen\u001b[39m(shp2))\n\u001b[0;32m--> 967\u001b[0m \u001b[38;5;28;01mreturn\u001b[39;00m \u001b[43mnp\u001b[49m\u001b[38;5;241;43m.\u001b[39;49m\u001b[43mbroadcast\u001b[49m\u001b[43m(\u001b[49m\u001b[43ma\u001b[49m\u001b[43m,\u001b[49m\u001b[43m \u001b[49m\u001b[43mb\u001b[49m\u001b[43m)\u001b[49m\u001b[38;5;241m.\u001b[39mshape\n",
      "\u001b[0;31mValueError\u001b[0m: shape mismatch: objects cannot be broadcast to a single shape.  Mismatch is between arg 0 with shape (241,) and arg 1 with shape (301,)."
     ]
    }
   ],
   "source": [
    "if os.path.isdir(dirout)==False:\n",
    "    os.makedirs(dirout)\n",
    "years=range(ref_year1,ref_year2)\n",
    "j=0\n",
    "for i,iyear in enumerate(range(ref_year1, ref_year2+1)):\n",
    "    #print iyear\n",
    "    parameters_str = reg_name+\"_\"+season+\"_\"+cv_str+'_percent%i'%(percent_thresh)+'_daymin%i'%(duration_min)+\"_ref_\"+str(ref_year1)+\"_\"+str(ref_year2)+\"_year_\"+str(iyear)\n",
    "    varout1 = \"HWMI\"+\"_\"+var+\"_\"+parameters_str\n",
    "    vout1=\"HWMI\"+\"_\"+var\n",
    "    fileout=dirout+varout1+\".nc\"#0%i01, monstart)\n",
    "    print(fileout)\n",
    "    if len(glob(fileout))==1:\n",
    "        os.remove(fileout)\n",
    "    fout=netCDF4.Dataset(fileout, \"w\")\n",
    "    #fin=netCDF4.Dataset(targetflst[iyear])\n",
    "    lat = fout.createDimension('lat', nlat)\n",
    "    lon = fout.createDimension('lon', nlon) \n",
    "    rea = fout.createDimension('realisation', nrealisation) \n",
    "    latitudes = fout.createVariable('lat', np.float32, ('lat',)) \n",
    "    longitudes = fout.createVariable('lon', np.float32,  ('lon',)) \n",
    "\n",
    "    # Time variable\n",
    "    timedim = fout.createDimension('time', None) \n",
    "    times = fout.createVariable('time', np.float64, ('time',)) \n",
    "    times.units = \"hours since 1970-01-01 00:00:00\"\n",
    "    times.calendar = 'gregorian' \n",
    "    times[:]=date2num(datetime(iyear,season_start_day[0],season_start_day[1]), units=times.units,calendar = times.calendar) ####______HERE_____\n",
    "\n",
    "\n",
    "    latitudes[:] = lats_reg\n",
    "    lonaux = lons_reg\n",
    "    longitudes[:] = lonaux\n",
    "    latitudes.units = 'degree_north'  \n",
    "    longitudes.units = 'degree_east' \n",
    "\n",
    "    # Create the HWMI 4-d variable\n",
    "    HWMIfile = fout.createVariable(vout1, np.float32, ('time','realisation','lat','lon'))\n",
    "    fout.description = 'HWMI index (Russo et al. 2014) for ' + season + ' computed in cross validation'\n",
    "    fout.history = 'computed from python script by C.Prodhomme & S.Lecestre' + time.ctime(time.time())\n",
    "    fout.source = 'HWMI for ' + expname\n",
    "    latitudes.units = 'degree_north'  \n",
    "    longitudes.units = 'degree_east' \n",
    "    HWMIfile.units = 'Probability'\n",
    "\n",
    "    # Create the nb of days 4-d variable\n",
    "    expercentfile = fout.createVariable(\"nbdaygtpercentpct_\"+var, np.float32, ('time','realisation','lat','lon')) \n",
    "    expercentfile.units = 'Number of days'  \n",
    "\n",
    "    # Write the HWMI variable\n",
    "    HWMIaux=HWMI[i:i+1,0:1,:,:]\n",
    "    HWMIfile[0:1,0:1,:,:]=HWMIaux\n",
    "\n",
    "    # Write the number of days\n",
    "    exedaux=ndayexedthreshold[i:i+1,j:j+1,:,:]\n",
    "    expercentfile[0:1,0:1,:,:]=exedaux \n",
    "\n",
    "    # Write the DDthreshold\n",
    "    #DDthresholdfile=DDthreshold\n",
    "    fout.close()"
   ]
  },
  {
   "cell_type": "code",
   "execution_count": null,
   "id": "1f3e99e4-ca39-4f9e-9f5c-9e2c03c97016",
   "metadata": {},
   "outputs": [],
   "source": []
  },
  {
   "cell_type": "code",
   "execution_count": null,
   "id": "b704ae24-5e69-47f3-85ed-025b35bfca5d",
   "metadata": {},
   "outputs": [],
   "source": []
  },
  {
   "cell_type": "code",
   "execution_count": null,
   "id": "cb1aee6c-0e86-4ff9-a9c1-27e06dfae70a",
   "metadata": {},
   "outputs": [],
   "source": []
  }
 ],
 "metadata": {
  "kernelspec": {
   "display_name": "Python 3 (ipykernel)",
   "language": "python",
   "name": "python3"
  },
  "language_info": {
   "codemirror_mode": {
    "name": "ipython",
    "version": 3
   },
   "file_extension": ".py",
   "mimetype": "text/x-python",
   "name": "python",
   "nbconvert_exporter": "python",
   "pygments_lexer": "ipython3",
   "version": "3.10.5"
  }
 },
 "nbformat": 4,
 "nbformat_minor": 5
}
