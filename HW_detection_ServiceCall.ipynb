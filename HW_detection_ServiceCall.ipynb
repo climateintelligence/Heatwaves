{
 "cells": [
  {
   "cell_type": "code",
   "execution_count": 2,
   "id": "92947c5c",
   "metadata": {},
   "outputs": [],
   "source": [
    "from birdy import WPSClient"
   ]
  },
  {
   "cell_type": "code",
   "execution_count": 3,
   "id": "2efad511",
   "metadata": {},
   "outputs": [
    {
     "ename": "XMLSyntaxError",
     "evalue": "Document is empty, line 1, column 1 (<string>, line 1)",
     "output_type": "error",
     "traceback": [
      "Traceback \u001b[0;36m(most recent call last)\u001b[0m:\n",
      "  File \u001b[1;32m~/mambaforge/lib/python3.9/site-packages/IPython/core/interactiveshell.py:3369\u001b[0m in \u001b[1;35mrun_code\u001b[0m\n    exec(code_obj, self.user_global_ns, self.user_ns)\n",
      "  Input \u001b[1;32mIn [3]\u001b[0m in \u001b[1;35m<cell line: 1>\u001b[0m\n    owl = WPSClient(url='http://localhost:5000/wps')\n",
      "  File \u001b[1;32m~/mambaforge/lib/python3.9/site-packages/birdy/client/base.py:134\u001b[0m in \u001b[1;35m__init__\u001b[0m\n    self._wps.getcapabilities(xml=caps_xml)\n",
      "  File \u001b[1;32m~/mambaforge/lib/python3.9/site-packages/owslib/wps.py:274\u001b[0m in \u001b[1;35mgetcapabilities\u001b[0m\n    self._capabilities = reader.readFromUrl(\n",
      "  File \u001b[1;32m~/mambaforge/lib/python3.9/site-packages/owslib/wps.py:550\u001b[0m in \u001b[1;35mreadFromUrl\u001b[0m\n    return self._readFromUrl(url,\n",
      "  File \u001b[1;32m~/mambaforge/lib/python3.9/site-packages/owslib/wps.py:510\u001b[0m in \u001b[1;35m_readFromUrl\u001b[0m\n    return etree.fromstring(u.read())\n",
      "  File \u001b[1;32msrc/lxml/etree.pyx:3254\u001b[0m in \u001b[1;35mlxml.etree.fromstring\u001b[0m\n",
      "  File \u001b[1;32msrc/lxml/parser.pxi:1913\u001b[0m in \u001b[1;35mlxml.etree._parseMemoryDocument\u001b[0m\n",
      "  File \u001b[1;32msrc/lxml/parser.pxi:1800\u001b[0m in \u001b[1;35mlxml.etree._parseDoc\u001b[0m\n",
      "  File \u001b[1;32msrc/lxml/parser.pxi:1141\u001b[0m in \u001b[1;35mlxml.etree._BaseParser._parseDoc\u001b[0m\n",
      "  File \u001b[1;32msrc/lxml/parser.pxi:615\u001b[0m in \u001b[1;35mlxml.etree._ParserContext._handleParseResultDoc\u001b[0m\n",
      "  File \u001b[1;32msrc/lxml/parser.pxi:725\u001b[0m in \u001b[1;35mlxml.etree._handleParseResult\u001b[0m\n",
      "\u001b[0;36m  File \u001b[0;32msrc/lxml/parser.pxi:654\u001b[0;36m in \u001b[0;35mlxml.etree._raiseParseError\u001b[0;36m\u001b[0m\n",
      "\u001b[0;36m  File \u001b[0;32m<string>:1\u001b[0;36m\u001b[0m\n\u001b[0;31mXMLSyntaxError\u001b[0m\u001b[0;31m:\u001b[0m Document is empty, line 1, column 1\n"
     ]
    }
   ],
   "source": [
    "owl = WPSClient(url='http://localhost:5000/wps')\n",
    "# owl_i = WPSClient(url='http://localhost:5000/wps', progress=True)"
   ]
  },
  {
   "cell_type": "code",
   "execution_count": null,
   "id": "87e5ffc7",
   "metadata": {},
   "outputs": [],
   "source": []
  }
 ],
 "metadata": {
  "kernelspec": {
   "display_name": "Python 3 (ipykernel)",
   "language": "python",
   "name": "python3"
  },
  "language_info": {
   "codemirror_mode": {
    "name": "ipython",
    "version": 3
   },
   "file_extension": ".py",
   "mimetype": "text/x-python",
   "name": "python",
   "nbconvert_exporter": "python",
   "pygments_lexer": "ipython3",
   "version": "3.9.13"
  }
 },
 "nbformat": 4,
 "nbformat_minor": 5
}
