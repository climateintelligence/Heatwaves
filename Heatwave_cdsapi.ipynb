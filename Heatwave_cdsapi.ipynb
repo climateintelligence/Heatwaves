{
 "cells": [
  {
   "cell_type": "markdown",
   "id": "17812344",
   "metadata": {},
   "source": [
    "#Import Data from the Climate Data Store:"
   ]
  },
  {
   "cell_type": "markdown",
   "id": "4738d48b",
   "metadata": {},
   "source": [
    "configuration is needed in the file $HOME/.cdsapirc (in your Unix/Linux environment). \n",
    "more Information in https://cds.climate.copernicus.eu/api-how-to "
   ]
  },
  {
   "cell_type": "code",
   "execution_count": 7,
   "id": "81bf0156-b630-4bac-87da-50d7010b0665",
   "metadata": {},
   "outputs": [],
   "source": [
    "import cdsapi\n",
    "\n",
    "c = cdsapi.Client()"
   ]
  },
  {
   "cell_type": "code",
   "execution_count": 8,
   "id": "56bc88c1-e7e4-4ebc-830a-dd2aca1cadf0",
   "metadata": {},
   "outputs": [
    {
     "name": "stderr",
     "output_type": "stream",
     "text": [
      "2022-08-24 13:39:03,621 INFO Welcome to the CDS\n",
      "2022-08-24 13:39:03,623 INFO Sending request to https://cds.climate.copernicus.eu/api/v2/resources/reanalysis-era5-single-levels\n",
      "2022-08-24 13:39:03,789 INFO Request is completed\n",
      "2022-08-24 13:39:03,792 INFO Downloading https://download-0012-clone.copernicus-climate.eu/cache-compute-0012/cache/data8/adaptor.mars.internal-1661337284.3474874-737-2-92d3e7e7-2ccf-4aa3-897d-ea55a8fce1bc.nc to download_2015.nc (2.1G)\n",
      "2022-08-24 13:44:53,057 ERROR Download interupted: HTTPSConnectionPool(host='download-0012-clone.copernicus-climate.eu', port=443): Read timed out.\n",
      "2022-08-24 13:44:53,058 ERROR Download incomplete, downloaded 291118080 byte(s) out of 2275836176\n",
      "2022-08-24 13:44:53,060 WARNING Sleeping 10 seconds\n",
      "2022-08-24 13:45:03,064 WARNING Resuming download at byte 291118080\n",
      "2022-08-24 13:46:16,234 WARNING Recovering from connection error [HTTPSConnectionPool(host='download-0012-clone.copernicus-climate.eu', port=443): Read timed out. (read timeout=60)], attemps 0 of 500\n",
      "2022-08-24 13:46:16,236 WARNING Retrying in 120 seconds\n",
      "2022-08-24 13:48:16,236 INFO Retrying now...\n",
      "2022-08-24 14:03:35,690 ERROR Download incomplete, downloaded 1526963713 byte(s) out of 2275836176\n",
      "2022-08-24 14:03:35,695 WARNING Sleeping 15.0 seconds\n",
      "2022-08-24 14:03:50,707 WARNING Resuming download at byte 1526963713\n",
      "2022-08-24 14:11:59,140 INFO Download rate 1.1M/s                               \n"
     ]
    },
    {
     "data": {
      "text/plain": [
       "Result(content_length=2275836176,content_type=application/x-netcdf,location=https://download-0012-clone.copernicus-climate.eu/cache-compute-0012/cache/data8/adaptor.mars.internal-1661337284.3474874-737-2-92d3e7e7-2ccf-4aa3-897d-ea55a8fce1bc.nc)"
      ]
     },
     "execution_count": 8,
     "metadata": {},
     "output_type": "execute_result"
    }
   ],
   "source": [
    "c.retrieve(\n",
    "    'reanalysis-era5-single-levels',\n",
    "    {\n",
    "        'product_type': 'reanalysis',\n",
    "        'format': 'netcdf',\n",
    "        'variable': '2m_temperature',\n",
    "        'year': [\n",
    "            '2015', \n",
    "            '2016', '2017',\n",
    "       #     '2018', '2019', '2020',\n",
    "       #     '2021', '2022',\n",
    "        ],\n",
    "        'month': [\n",
    "            '01', '02', '03',\n",
    "            '04', '05', '06',\n",
    "            '07', '08', '09',\n",
    "            '10', '11', '12',\n",
    "        ],\n",
    "        'day': [\n",
    "            '01', '02', '03',\n",
    "            '04', '05', '06',\n",
    "            '07', '08', '09',\n",
    "            '10', '11', '12',\n",
    "            '13', '14', '15',\n",
    "            '16', '17', '18',\n",
    "            '19', '20', '21',\n",
    "            '22', '23', '24',\n",
    "            '25', '26', '27',\n",
    "            '28', '29', '30',\n",
    "            '31',\n",
    "        ],\n",
    "       # 'bbox' : [165 ,240, 60, 70],  # Europe\n",
    "        'time': '17:00',\n",
    "    },\n",
    "    '../testdata/download_2015.nc')\n"
   ]
  },
  {
   "cell_type": "code",
   "execution_count": 4,
   "id": "d0801c2d-9def-43bb-ac28-6f56525f0904",
   "metadata": {},
   "outputs": [
    {
     "data": {
      "text/plain": [
       "\u001b[0;31mInit signature:\u001b[0m\n",
       "\u001b[0mcdsapi\u001b[0m\u001b[0;34m.\u001b[0m\u001b[0mapi\u001b[0m\u001b[0;34m.\u001b[0m\u001b[0mClient\u001b[0m\u001b[0;34m(\u001b[0m\u001b[0;34m\u001b[0m\n",
       "\u001b[0;34m\u001b[0m    \u001b[0murl\u001b[0m\u001b[0;34m=\u001b[0m\u001b[0;32mNone\u001b[0m\u001b[0;34m,\u001b[0m\u001b[0;34m\u001b[0m\n",
       "\u001b[0;34m\u001b[0m    \u001b[0mkey\u001b[0m\u001b[0;34m=\u001b[0m\u001b[0;32mNone\u001b[0m\u001b[0;34m,\u001b[0m\u001b[0;34m\u001b[0m\n",
       "\u001b[0;34m\u001b[0m    \u001b[0mquiet\u001b[0m\u001b[0;34m=\u001b[0m\u001b[0;32mFalse\u001b[0m\u001b[0;34m,\u001b[0m\u001b[0;34m\u001b[0m\n",
       "\u001b[0;34m\u001b[0m    \u001b[0mdebug\u001b[0m\u001b[0;34m=\u001b[0m\u001b[0;32mFalse\u001b[0m\u001b[0;34m,\u001b[0m\u001b[0;34m\u001b[0m\n",
       "\u001b[0;34m\u001b[0m    \u001b[0mverify\u001b[0m\u001b[0;34m=\u001b[0m\u001b[0;32mNone\u001b[0m\u001b[0;34m,\u001b[0m\u001b[0;34m\u001b[0m\n",
       "\u001b[0;34m\u001b[0m    \u001b[0mtimeout\u001b[0m\u001b[0;34m=\u001b[0m\u001b[0;36m60\u001b[0m\u001b[0;34m,\u001b[0m\u001b[0;34m\u001b[0m\n",
       "\u001b[0;34m\u001b[0m    \u001b[0mprogress\u001b[0m\u001b[0;34m=\u001b[0m\u001b[0;32mTrue\u001b[0m\u001b[0;34m,\u001b[0m\u001b[0;34m\u001b[0m\n",
       "\u001b[0;34m\u001b[0m    \u001b[0mfull_stack\u001b[0m\u001b[0;34m=\u001b[0m\u001b[0;32mFalse\u001b[0m\u001b[0;34m,\u001b[0m\u001b[0;34m\u001b[0m\n",
       "\u001b[0;34m\u001b[0m    \u001b[0mdelete\u001b[0m\u001b[0;34m=\u001b[0m\u001b[0;32mTrue\u001b[0m\u001b[0;34m,\u001b[0m\u001b[0;34m\u001b[0m\n",
       "\u001b[0;34m\u001b[0m    \u001b[0mretry_max\u001b[0m\u001b[0;34m=\u001b[0m\u001b[0;36m500\u001b[0m\u001b[0;34m,\u001b[0m\u001b[0;34m\u001b[0m\n",
       "\u001b[0;34m\u001b[0m    \u001b[0msleep_max\u001b[0m\u001b[0;34m=\u001b[0m\u001b[0;36m120\u001b[0m\u001b[0;34m,\u001b[0m\u001b[0;34m\u001b[0m\n",
       "\u001b[0;34m\u001b[0m    \u001b[0mwait_until_complete\u001b[0m\u001b[0;34m=\u001b[0m\u001b[0;32mTrue\u001b[0m\u001b[0;34m,\u001b[0m\u001b[0;34m\u001b[0m\n",
       "\u001b[0;34m\u001b[0m    \u001b[0minfo_callback\u001b[0m\u001b[0;34m=\u001b[0m\u001b[0;32mNone\u001b[0m\u001b[0;34m,\u001b[0m\u001b[0;34m\u001b[0m\n",
       "\u001b[0;34m\u001b[0m    \u001b[0mwarning_callback\u001b[0m\u001b[0;34m=\u001b[0m\u001b[0;32mNone\u001b[0m\u001b[0;34m,\u001b[0m\u001b[0;34m\u001b[0m\n",
       "\u001b[0;34m\u001b[0m    \u001b[0merror_callback\u001b[0m\u001b[0;34m=\u001b[0m\u001b[0;32mNone\u001b[0m\u001b[0;34m,\u001b[0m\u001b[0;34m\u001b[0m\n",
       "\u001b[0;34m\u001b[0m    \u001b[0mdebug_callback\u001b[0m\u001b[0;34m=\u001b[0m\u001b[0;32mNone\u001b[0m\u001b[0;34m,\u001b[0m\u001b[0;34m\u001b[0m\n",
       "\u001b[0;34m\u001b[0m    \u001b[0mmetadata\u001b[0m\u001b[0;34m=\u001b[0m\u001b[0;32mNone\u001b[0m\u001b[0;34m,\u001b[0m\u001b[0;34m\u001b[0m\n",
       "\u001b[0;34m\u001b[0m    \u001b[0mforget\u001b[0m\u001b[0;34m=\u001b[0m\u001b[0;32mFalse\u001b[0m\u001b[0;34m,\u001b[0m\u001b[0;34m\u001b[0m\n",
       "\u001b[0;34m\u001b[0m    \u001b[0msession\u001b[0m\u001b[0;34m=\u001b[0m\u001b[0;34m<\u001b[0m\u001b[0mrequests\u001b[0m\u001b[0;34m.\u001b[0m\u001b[0msessions\u001b[0m\u001b[0;34m.\u001b[0m\u001b[0mSession\u001b[0m \u001b[0mobject\u001b[0m \u001b[0mat\u001b[0m \u001b[0;36m0x105b6db10\u001b[0m\u001b[0;34m>\u001b[0m\u001b[0;34m,\u001b[0m\u001b[0;34m\u001b[0m\n",
       "\u001b[0;34m\u001b[0m\u001b[0;34m)\u001b[0m\u001b[0;34m\u001b[0m\u001b[0;34m\u001b[0m\u001b[0m\n",
       "\u001b[0;31mDocstring:\u001b[0m      <no docstring>\n",
       "\u001b[0;31mFile:\u001b[0m           ~/mambaforge/envs/heatwaves/lib/python3.10/site-packages/cdsapi/api.py\n",
       "\u001b[0;31mType:\u001b[0m           type\n",
       "\u001b[0;31mSubclasses:\u001b[0m     \n"
      ]
     },
     "metadata": {},
     "output_type": "display_data"
    }
   ],
   "source": [
    "cdsapi.api.Client?"
   ]
  },
  {
   "cell_type": "code",
   "execution_count": 18,
   "id": "18b30d5d",
   "metadata": {},
   "outputs": [],
   "source": [
    "file = '/Users/nilshempelmann/birdhouse/testdata/download_2015.nc'\n",
    "\n",
    "### EXPERIENCE NAME\n",
    "expname = \"ocean_reanalysis_GREP\"\n",
    "#expname = \"sst_retroprevision_sys7\"\n",
    "\n",
    "### PERCENTILE THRESHOLD\n",
    "percent_thresh = 95\n",
    "#percent_thresh = 90\n",
    "\n",
    "### MINIMAL DURATION OF A HW\n",
    "duration_min = 5\n",
    "#duration_min = 3\n",
    "\n",
    "### REGION OF EXPERIENCE\n",
    "reg_name = \"global\"\n",
    "#reg_name = 'lat30_70-lon-40_0'\n",
    "#reg_name = 'lat-20_30-lon-30_10'\n",
    "if reg_name == 'global':\n",
    "    lats_bnds = [-90,90]\n",
    "    lons_bnds = [-180,180]    \n",
    "elif reg_name == 'lat30_70-lon-40_0':\n",
    "    lats_bnds = [30,70]\n",
    "    lons_bnds = [-40, 0]\n",
    "elif reg_name == 'lat-20_30-lon-30_10':\n",
    "    lats_bnds = [-20, 20]\n",
    "    lons_bnds = [-30, 10]\n",
    "nlat = lats_bnds[1]-lats_bnds[0]\n",
    "nlon = lons_bnds[1]-lons_bnds[0]\n",
    "\n",
    "### YEARS\n",
    "if expname == 'ocean_reanalysis_GREP':\n",
    "    end_year=2018\n",
    "    start_year=1993\n",
    "elif expname == 'sst_retroprevision_sys7':\n",
    "    end_year=2016\n",
    "    start_year=1993\n",
    "nyear=end_year-start_year+1\n",
    "\n",
    "### SEASON\n",
    "season = \"NDJFMAM\"\n",
    "if season == 'NDJFMAM':\n",
    "    nday = 211\n",
    "    season_start_day = [11,1] #1stNov\n",
    "    season_end_day = [5,31] #31stMay\n",
    "elif season == 'DJF':\n",
    "    nday = 90\n",
    "ndayseas = nday//duration_min +1\n",
    "\n",
    "if expname == \"ocean_reanalysis_GREP\":    \n",
    "    ### NUMBER OF MEMBS\n",
    "    nmemb = 1\n",
    "    chosen_memb = [0] #should never change\n",
    "    memb_str = 'memb' + str(chosen_memb[0])\n",
    "    \n",
    "    ### CROSS VALIDATION\n",
    "    cv = False\n",
    "    if cv:\n",
    "        cv_str = \"CV\"\n",
    "    else:\n",
    "        cv_str = 'notCV'\n",
    "        \n",
    "elif expname == \"sst_retroprevision_sys7\":    \n",
    "    ### NUMBER OF MEMBS\n",
    "    nmemb = 1 #For now keep just one memb by one\n",
    "    chosen_memb = [21] #to be filled in numerical order\n",
    "    if len(chosen_memb) != nmemb:\n",
    "        raise(ValueError)\n",
    "    if nmemb>1:\n",
    "        memb_str = 'memb' + str(chosen_memb[0]) + '-' + str(chosen_memb[-1])\n",
    "    else:\n",
    "        memb_str = 'memb' + str(chosen_memb[0])\n",
    "    \n",
    "    ### CROSS VALIDATION\n",
    "    cv = True\n",
    "    if cv:\n",
    "        cv_str = \"CV\"\n",
    "    else:\n",
    "        cv_str = 'notCV'\n",
    "\n",
    "### PARAMETERS\n",
    "parameters_str = reg_name + \"_\" + season + \"_\" + cv_str + '_percent%i'%(percent_thresh) + '_daymin%i'%(duration_min) +  \"ref%i-%i\"%(start_year, end_year) + '_' + memb_str\n",
    "\n",
    "### NAME OF THE VARIABLES IN THE NC FILES\n",
    "#varname = 'HWMI_' + parameters_str\n",
    "varname = 'subHW_' + parameters_str"
   ]
  },
  {
   "cell_type": "code",
   "execution_count": 2,
   "id": "a94d7f6c",
   "metadata": {},
   "outputs": [],
   "source": [
    "import matplotlib\n",
    "#matplotlib.use('Agg')"
   ]
  },
  {
   "cell_type": "code",
   "execution_count": 8,
   "id": "9f03d458",
   "metadata": {},
   "outputs": [],
   "source": [
    "import os\n",
    "import datetime\n",
    "import time\n",
    "import copy\n",
    "import shutil\n",
    "import sys\n",
    "sys.path.append('/Users/nilshempelmann/birdhouse/Heatwaves/')\n",
    "# from function_read import *\n",
    "# from HWs_detection import *\n",
    "import numpy as np\n",
    "from mpl_toolkits.axes_grid1 import make_axes_locatable\n",
    "import matplotlib.pyplot as plt\n",
    "# from mpl_toolkits.basemap import Basemap, shiftgrid\n"
   ]
  },
  {
   "cell_type": "code",
   "execution_count": 6,
   "id": "89332662",
   "metadata": {},
   "outputs": [],
   "source": [
    "import calendar\n",
    "import locale\n",
    "locale.setlocale( locale.LC_ALL , 'en_US' )\n",
    "from netCDF4 import num2date, date2num \n",
    "import netCDF4\n",
    "from math import sin, cos, sqrt, atan2, radians\n",
    "# from sklearn.neighbors import DistanceMetric\n",
    "from math import radians\n",
    "\n",
    "# from joblib import Parallel, delayed\n",
    "# import joblib"
   ]
  },
  {
   "cell_type": "code",
   "execution_count": 20,
   "id": "c318ea49",
   "metadata": {},
   "outputs": [],
   "source": [
    "from function_read import extract_array\n",
    "varname = 't2m'\n",
    "varf=netCDF4.Dataset(file)\n",
    "varf.variables[varname]\n",
    "vararray, lats_reg, lons_reg = extract_array(varf, varname, ndayseas, np.array(lons_bnds), np.array(lats_bnds),  start_time = 0, level=0)\n",
    "obsreg = vararray[:, np.newaxis, :, :]"
   ]
  },
  {
   "cell_type": "code",
   "execution_count": 22,
   "id": "5474037c",
   "metadata": {},
   "outputs": [],
   "source": [
    "obsregyearslst = []\n",
    "maskobs = obsreg.mask\n",
    "obsregyearslst.append(obsreg)\n",
    "\n",
    "obsregyears = np.ma.array(obsregyearslst)"
   ]
  },
  {
   "cell_type": "code",
   "execution_count": 25,
   "id": "1c625160",
   "metadata": {},
   "outputs": [
    {
     "ename": "ValueError",
     "evalue": "not enough values to unpack (expected 8, got 7)",
     "output_type": "error",
     "traceback": [
      "\u001b[0;31m---------------------------------------------------------------------------\u001b[0m",
      "\u001b[0;31mValueError\u001b[0m                                Traceback (most recent call last)",
      "Input \u001b[0;32mIn [25]\u001b[0m, in \u001b[0;36m<cell line: 4>\u001b[0;34m()\u001b[0m\n\u001b[1;32m      2\u001b[0m start_time \u001b[38;5;241m=\u001b[39m time\u001b[38;5;241m.\u001b[39mtime()\n\u001b[1;32m      3\u001b[0m args \u001b[38;5;241m=\u001b[39m (expname, reg_name, memb_str, parameters_str, start_year, lats_reg, lons_reg)\n\u001b[0;32m----> 4\u001b[0m HWampliobsmembyear, HWstartobsmembyear, HWendobsmembyear, fieldobslstmembyear \u001b[38;5;241m=\u001b[39m \u001b[43mcalc_HW_MY\u001b[49m\u001b[43m(\u001b[49m\u001b[43mobsregyears\u001b[49m\u001b[43m,\u001b[49m\u001b[43m \u001b[49m\u001b[43mmaskobs\u001b[49m\u001b[43m,\u001b[49m\u001b[43m \u001b[49m\u001b[43mlats_reg\u001b[49m\u001b[43m,\u001b[49m\u001b[43m \u001b[49m\u001b[43mlons_reg\u001b[49m\u001b[43m,\u001b[49m\u001b[43m \u001b[49m\u001b[43margs\u001b[49m\u001b[43m,\u001b[49m\u001b[43m \u001b[49m\u001b[43mallowdist\u001b[49m\u001b[38;5;241;43m=\u001b[39;49m\u001b[38;5;241;43m1\u001b[39;49m\u001b[43m)\u001b[49m\n\u001b[1;32m      5\u001b[0m \u001b[38;5;28mprint\u001b[39m(\u001b[38;5;124m'\u001b[39m\u001b[38;5;124mTotal time for detection : \u001b[39m\u001b[38;5;124m'\u001b[39m, time\u001b[38;5;241m.\u001b[39mtime() \u001b[38;5;241m-\u001b[39m start_time)\n",
      "File \u001b[0;32m~/birdhouse/Heatwaves/HW_detection.py:253\u001b[0m, in \u001b[0;36mcalc_HW_MY\u001b[0;34m(mod, mask, lat, lon, args, allowdist)\u001b[0m\n\u001b[1;32m    249\u001b[0m \u001b[38;5;28;01mdef\u001b[39;00m \u001b[38;5;21mcalc_HW_MY\u001b[39m(mod, mask, lat, lon, args, allowdist\u001b[38;5;241m=\u001b[39m\u001b[38;5;241m1\u001b[39m):\n\u001b[1;32m    250\u001b[0m     \u001b[38;5;124;03m\"\"\"\u001b[39;00m\n\u001b[1;32m    251\u001b[0m \u001b[38;5;124;03m    mod : data np.array of shape (nyear, ndayseas, nmemb, nlon, nlat)\u001b[39;00m\n\u001b[1;32m    252\u001b[0m \u001b[38;5;124;03m    \"\"\"\u001b[39;00m\n\u001b[0;32m--> 253\u001b[0m     expname, reg_name, memb_str, season, parameters_str, start_year, lats_reg, lons_reg \u001b[38;5;241m=\u001b[39m args\n\u001b[1;32m    254\u001b[0m     nyear, ndayseas, nmemb, nlat, nlon \u001b[38;5;241m=\u001b[39m mod\u001b[38;5;241m.\u001b[39mshape\n\u001b[1;32m    256\u001b[0m     \u001b[38;5;66;03m#HWamplimembyear = []\u001b[39;00m\n\u001b[1;32m    257\u001b[0m     \u001b[38;5;66;03m#HWstartmembyear = []\u001b[39;00m\n\u001b[1;32m    258\u001b[0m     \u001b[38;5;66;03m#HWendmembyear = []\u001b[39;00m\n\u001b[1;32m    259\u001b[0m     \u001b[38;5;66;03m#fieldlstmembyear = []\u001b[39;00m\n",
      "\u001b[0;31mValueError\u001b[0m: not enough values to unpack (expected 8, got 7)"
     ]
    }
   ],
   "source": [
    "from HW_detection import calc_HW_MY\n",
    "start_time = time.time()\n",
    "args = (expname, reg_name, memb_str, parameters_str, start_year, lats_reg, lons_reg)\n",
    "HWampliobsmembyear, HWstartobsmembyear, HWendobsmembyear, fieldobslstmembyear = calc_HW_MY(obsregyears, maskobs, lats_reg, lons_reg, args, allowdist=1)\n",
    "print('Total time for detection : ', time.time() - start_time)"
   ]
  },
  {
   "cell_type": "code",
   "execution_count": null,
   "id": "ab09e9f6",
   "metadata": {},
   "outputs": [],
   "source": []
  }
 ],
 "metadata": {
  "kernelspec": {
   "display_name": "Python 3 (ipykernel)",
   "language": "python",
   "name": "python3"
  },
  "language_info": {
   "codemirror_mode": {
    "name": "ipython",
    "version": 3
   },
   "file_extension": ".py",
   "mimetype": "text/x-python",
   "name": "python",
   "nbconvert_exporter": "python",
   "pygments_lexer": "ipython3",
   "version": "3.10.5"
  }
 },
 "nbformat": 4,
 "nbformat_minor": 5
}
