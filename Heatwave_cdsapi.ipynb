{
 "cells": [
  {
   "cell_type": "markdown",
   "id": "17812344",
   "metadata": {},
   "source": [
    "#Import Data from the Climate Data Store:"
   ]
  },
  {
   "cell_type": "markdown",
   "id": "4738d48b",
   "metadata": {},
   "source": [
    "configuration is needed in the file $HOME/.cdsapirc (in your Unix/Linux environment). \n",
    "more Information in https://cds.climate.copernicus.eu/api-how-to "
   ]
  },
  {
   "cell_type": "code",
   "execution_count": 7,
   "id": "81bf0156-b630-4bac-87da-50d7010b0665",
   "metadata": {},
   "outputs": [],
   "source": [
    "import cdsapi\n",
    "\n",
    "c = cdsapi.Client()"
   ]
  },
  {
   "cell_type": "code",
   "execution_count": 8,
   "id": "56bc88c1-e7e4-4ebc-830a-dd2aca1cadf0",
   "metadata": {},
   "outputs": [
    {
     "name": "stderr",
     "output_type": "stream",
     "text": [
      "2022-08-24 13:39:03,621 INFO Welcome to the CDS\n",
      "2022-08-24 13:39:03,623 INFO Sending request to https://cds.climate.copernicus.eu/api/v2/resources/reanalysis-era5-single-levels\n",
      "2022-08-24 13:39:03,789 INFO Request is completed\n",
      "2022-08-24 13:39:03,792 INFO Downloading https://download-0012-clone.copernicus-climate.eu/cache-compute-0012/cache/data8/adaptor.mars.internal-1661337284.3474874-737-2-92d3e7e7-2ccf-4aa3-897d-ea55a8fce1bc.nc to download_2015.nc (2.1G)\n",
      "2022-08-24 13:44:53,057 ERROR Download interupted: HTTPSConnectionPool(host='download-0012-clone.copernicus-climate.eu', port=443): Read timed out.\n",
      "2022-08-24 13:44:53,058 ERROR Download incomplete, downloaded 291118080 byte(s) out of 2275836176\n",
      "2022-08-24 13:44:53,060 WARNING Sleeping 10 seconds\n",
      "2022-08-24 13:45:03,064 WARNING Resuming download at byte 291118080\n",
      "2022-08-24 13:46:16,234 WARNING Recovering from connection error [HTTPSConnectionPool(host='download-0012-clone.copernicus-climate.eu', port=443): Read timed out. (read timeout=60)], attemps 0 of 500\n",
      "2022-08-24 13:46:16,236 WARNING Retrying in 120 seconds\n",
      "2022-08-24 13:48:16,236 INFO Retrying now...\n",
      "2022-08-24 14:03:35,690 ERROR Download incomplete, downloaded 1526963713 byte(s) out of 2275836176\n",
      "2022-08-24 14:03:35,695 WARNING Sleeping 15.0 seconds\n",
      "2022-08-24 14:03:50,707 WARNING Resuming download at byte 1526963713\n",
      "2022-08-24 14:11:59,140 INFO Download rate 1.1M/s                               \n"
     ]
    },
    {
     "data": {
      "text/plain": [
       "Result(content_length=2275836176,content_type=application/x-netcdf,location=https://download-0012-clone.copernicus-climate.eu/cache-compute-0012/cache/data8/adaptor.mars.internal-1661337284.3474874-737-2-92d3e7e7-2ccf-4aa3-897d-ea55a8fce1bc.nc)"
      ]
     },
     "execution_count": 8,
     "metadata": {},
     "output_type": "execute_result"
    }
   ],
   "source": [
    "c.retrieve(\n",
    "    'reanalysis-era5-single-levels',\n",
    "    {\n",
    "        'product_type': 'reanalysis',\n",
    "        'format': 'netcdf',\n",
    "        'variable': '2m_temperature',\n",
    "        'year': [\n",
    "            '2015', \n",
    "            '2016', '2017',\n",
    "       #     '2018', '2019', '2020',\n",
    "       #     '2021', '2022',\n",
    "        ],\n",
    "        'month': [\n",
    "            '01', '02', '03',\n",
    "            '04', '05', '06',\n",
    "            '07', '08', '09',\n",
    "            '10', '11', '12',\n",
    "        ],\n",
    "        'day': [\n",
    "            '01', '02', '03',\n",
    "            '04', '05', '06',\n",
    "            '07', '08', '09',\n",
    "            '10', '11', '12',\n",
    "            '13', '14', '15',\n",
    "            '16', '17', '18',\n",
    "            '19', '20', '21',\n",
    "            '22', '23', '24',\n",
    "            '25', '26', '27',\n",
    "            '28', '29', '30',\n",
    "            '31',\n",
    "        ],\n",
    "       # 'bbox' : [165 ,240, 60, 70],  # Europe\n",
    "        'time': '17:00',\n",
    "    },\n",
    "    '../testdata/download_2015.nc')\n"
   ]
  },
  {
   "cell_type": "code",
   "execution_count": null,
   "id": "ab09e9f6",
   "metadata": {},
   "outputs": [],
   "source": []
  }
 ],
 "metadata": {
  "kernelspec": {
   "display_name": "Python 3 (ipykernel)",
   "language": "python",
   "name": "python3"
  },
  "language_info": {
   "codemirror_mode": {
    "name": "ipython",
    "version": 3
   },
   "file_extension": ".py",
   "mimetype": "text/x-python",
   "name": "python",
   "nbconvert_exporter": "python",
   "pygments_lexer": "ipython3",
   "version": "3.10.5"
  }
 },
 "nbformat": 4,
 "nbformat_minor": 5
}
